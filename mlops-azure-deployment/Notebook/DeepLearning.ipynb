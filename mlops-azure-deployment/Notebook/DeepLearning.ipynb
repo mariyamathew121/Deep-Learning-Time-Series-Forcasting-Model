{
  "cells": [
    {
      "cell_type": "code",
      "execution_count": null,
      "id": "25e932a5",
      "metadata": {
        "id": "25e932a5"
      },
      "outputs": [],
      "source": []
    },
    {
      "cell_type": "code",
      "execution_count": 1,
      "id": "f14ae4f6",
      "metadata": {
        "id": "f14ae4f6"
      },
      "outputs": [],
      "source": [
        "import warnings\n",
        "import numpy as np\n",
        "import pandas as pd\n",
        "import matplotlib.pyplot as plt\n",
        "from tensorflow.keras import optimizers\n",
        "\n",
        "from tensorflow.keras.models import Sequential, Model\n",
        "from tensorflow.keras.layers import Conv1D, MaxPooling1D\n",
        "from tensorflow.keras.layers import Dense, LSTM, RepeatVector, TimeDistributed, Flatten\n",
        "from sklearn.metrics import mean_squared_error\n",
        "from sklearn.model_selection import train_test_split\n",
        "\n",
        "warnings.filterwarnings(\"ignore\")"
      ]
    },
    {
      "cell_type": "code",
      "execution_count": 3,
      "id": "ed9d2b19",
      "metadata": {
        "id": "ed9d2b19"
      },
      "outputs": [],
      "source": [
        "# importing the data\n",
        "raw_csv_data = pd.read_excel(\"https://timeseries-mlmodel.s3.amazonaws.com/CallCenterData.xlsx\")"
      ]
    },
    {
      "cell_type": "code",
      "execution_count": 4,
      "id": "c2297659",
      "metadata": {
        "id": "c2297659"
      },
      "outputs": [],
      "source": [
        "# check point of data\n",
        "df_comp = raw_csv_data.copy()"
      ]
    },
    {
      "cell_type": "code",
      "execution_count": 5,
      "id": "a0347a90",
      "metadata": {
        "colab": {
          "base_uri": "https://localhost:8080/",
          "height": 206
        },
        "id": "a0347a90",
        "outputId": "3d7fcefb-3bd8-4851-fd47-b3f85c160c80"
      },
      "outputs": [
        {
          "data": {
            "text/html": [
              "<div>\n",
              "<style scoped>\n",
              "    .dataframe tbody tr th:only-of-type {\n",
              "        vertical-align: middle;\n",
              "    }\n",
              "\n",
              "    .dataframe tbody tr th {\n",
              "        vertical-align: top;\n",
              "    }\n",
              "\n",
              "    .dataframe thead th {\n",
              "        text-align: right;\n",
              "    }\n",
              "</style>\n",
              "<table border=\"1\" class=\"dataframe\">\n",
              "  <thead>\n",
              "    <tr style=\"text-align: right;\">\n",
              "      <th></th>\n",
              "      <th>month</th>\n",
              "      <th>Healthcare</th>\n",
              "      <th>Telecom</th>\n",
              "      <th>Banking</th>\n",
              "      <th>Technology</th>\n",
              "      <th>Insurance</th>\n",
              "      <th>#ofphonelines</th>\n",
              "      <th>#noofchannels</th>\n",
              "    </tr>\n",
              "  </thead>\n",
              "  <tbody>\n",
              "    <tr>\n",
              "      <th>0</th>\n",
              "      <td>2010-01-31</td>\n",
              "      <td>631</td>\n",
              "      <td>8</td>\n",
              "      <td>6</td>\n",
              "      <td>2</td>\n",
              "      <td>19</td>\n",
              "      <td>1</td>\n",
              "      <td>4</td>\n",
              "    </tr>\n",
              "    <tr>\n",
              "      <th>1</th>\n",
              "      <td>2010-02-28</td>\n",
              "      <td>633</td>\n",
              "      <td>9</td>\n",
              "      <td>7</td>\n",
              "      <td>3</td>\n",
              "      <td>27</td>\n",
              "      <td>1</td>\n",
              "      <td>3</td>\n",
              "    </tr>\n",
              "    <tr>\n",
              "      <th>2</th>\n",
              "      <td>2010-03-31</td>\n",
              "      <td>766</td>\n",
              "      <td>4</td>\n",
              "      <td>4</td>\n",
              "      <td>2</td>\n",
              "      <td>24</td>\n",
              "      <td>1</td>\n",
              "      <td>1</td>\n",
              "    </tr>\n",
              "    <tr>\n",
              "      <th>3</th>\n",
              "      <td>2010-04-30</td>\n",
              "      <td>768</td>\n",
              "      <td>12</td>\n",
              "      <td>6</td>\n",
              "      <td>3</td>\n",
              "      <td>32</td>\n",
              "      <td>1</td>\n",
              "      <td>1</td>\n",
              "    </tr>\n",
              "    <tr>\n",
              "      <th>4</th>\n",
              "      <td>2010-05-31</td>\n",
              "      <td>1003</td>\n",
              "      <td>2</td>\n",
              "      <td>7</td>\n",
              "      <td>2</td>\n",
              "      <td>42</td>\n",
              "      <td>1</td>\n",
              "      <td>4</td>\n",
              "    </tr>\n",
              "  </tbody>\n",
              "</table>\n",
              "</div>"
            ],
            "text/plain": [
              "       month  Healthcare  Telecom  ...  Insurance  #ofphonelines  #noofchannels\n",
              "0 2010-01-31         631        8  ...         19              1              4\n",
              "1 2010-02-28         633        9  ...         27              1              3\n",
              "2 2010-03-31         766        4  ...         24              1              1\n",
              "3 2010-04-30         768       12  ...         32              1              1\n",
              "4 2010-05-31        1003        2  ...         42              1              4\n",
              "\n",
              "[5 rows x 8 columns]"
            ]
          },
          "execution_count": 5,
          "metadata": {},
          "output_type": "execute_result"
        }
      ],
      "source": [
        "df_comp.head()"
      ]
    },
    {
      "cell_type": "code",
      "execution_count": 6,
      "id": "44d88128",
      "metadata": {
        "colab": {
          "base_uri": "https://localhost:8080/",
          "height": 300
        },
        "id": "44d88128",
        "outputId": "a5b64e80-9594-4e59-f8c4-7661bbaf0861"
      },
      "outputs": [
        {
          "data": {
            "text/html": [
              "<div>\n",
              "<style scoped>\n",
              "    .dataframe tbody tr th:only-of-type {\n",
              "        vertical-align: middle;\n",
              "    }\n",
              "\n",
              "    .dataframe tbody tr th {\n",
              "        vertical-align: top;\n",
              "    }\n",
              "\n",
              "    .dataframe thead th {\n",
              "        text-align: right;\n",
              "    }\n",
              "</style>\n",
              "<table border=\"1\" class=\"dataframe\">\n",
              "  <thead>\n",
              "    <tr style=\"text-align: right;\">\n",
              "      <th></th>\n",
              "      <th>Healthcare</th>\n",
              "      <th>Telecom</th>\n",
              "      <th>Banking</th>\n",
              "      <th>Technology</th>\n",
              "      <th>Insurance</th>\n",
              "      <th>#ofphonelines</th>\n",
              "      <th>#noofchannels</th>\n",
              "    </tr>\n",
              "  </thead>\n",
              "  <tbody>\n",
              "    <tr>\n",
              "      <th>count</th>\n",
              "      <td>132.000000</td>\n",
              "      <td>132.000000</td>\n",
              "      <td>132.000000</td>\n",
              "      <td>132.000000</td>\n",
              "      <td>132.000000</td>\n",
              "      <td>132.000000</td>\n",
              "      <td>132.000000</td>\n",
              "    </tr>\n",
              "    <tr>\n",
              "      <th>mean</th>\n",
              "      <td>9856.704545</td>\n",
              "      <td>2411.856061</td>\n",
              "      <td>514.204545</td>\n",
              "      <td>112.454545</td>\n",
              "      <td>651.681818</td>\n",
              "      <td>2.250000</td>\n",
              "      <td>2.537879</td>\n",
              "    </tr>\n",
              "    <tr>\n",
              "      <th>std</th>\n",
              "      <td>6221.071304</td>\n",
              "      <td>1714.759241</td>\n",
              "      <td>392.882978</td>\n",
              "      <td>69.680773</td>\n",
              "      <td>395.949633</td>\n",
              "      <td>1.867255</td>\n",
              "      <td>1.161766</td>\n",
              "    </tr>\n",
              "    <tr>\n",
              "      <th>min</th>\n",
              "      <td>631.000000</td>\n",
              "      <td>2.000000</td>\n",
              "      <td>4.000000</td>\n",
              "      <td>2.000000</td>\n",
              "      <td>19.000000</td>\n",
              "      <td>0.000000</td>\n",
              "      <td>1.000000</td>\n",
              "    </tr>\n",
              "    <tr>\n",
              "      <th>25%</th>\n",
              "      <td>3744.250000</td>\n",
              "      <td>608.750000</td>\n",
              "      <td>119.000000</td>\n",
              "      <td>39.750000</td>\n",
              "      <td>363.500000</td>\n",
              "      <td>1.000000</td>\n",
              "      <td>1.000000</td>\n",
              "    </tr>\n",
              "    <tr>\n",
              "      <th>50%</th>\n",
              "      <td>9651.500000</td>\n",
              "      <td>2613.500000</td>\n",
              "      <td>486.000000</td>\n",
              "      <td>130.500000</td>\n",
              "      <td>581.000000</td>\n",
              "      <td>2.000000</td>\n",
              "      <td>3.000000</td>\n",
              "    </tr>\n",
              "    <tr>\n",
              "      <th>75%</th>\n",
              "      <td>15590.750000</td>\n",
              "      <td>4000.500000</td>\n",
              "      <td>901.500000</td>\n",
              "      <td>171.250000</td>\n",
              "      <td>997.750000</td>\n",
              "      <td>3.000000</td>\n",
              "      <td>4.000000</td>\n",
              "    </tr>\n",
              "    <tr>\n",
              "      <th>max</th>\n",
              "      <td>23602.000000</td>\n",
              "      <td>5138.000000</td>\n",
              "      <td>1310.000000</td>\n",
              "      <td>229.000000</td>\n",
              "      <td>1535.000000</td>\n",
              "      <td>11.000000</td>\n",
              "      <td>4.000000</td>\n",
              "    </tr>\n",
              "  </tbody>\n",
              "</table>\n",
              "</div>"
            ],
            "text/plain": [
              "         Healthcare      Telecom  ...  #ofphonelines  #noofchannels\n",
              "count    132.000000   132.000000  ...     132.000000     132.000000\n",
              "mean    9856.704545  2411.856061  ...       2.250000       2.537879\n",
              "std     6221.071304  1714.759241  ...       1.867255       1.161766\n",
              "min      631.000000     2.000000  ...       0.000000       1.000000\n",
              "25%     3744.250000   608.750000  ...       1.000000       1.000000\n",
              "50%     9651.500000  2613.500000  ...       2.000000       3.000000\n",
              "75%    15590.750000  4000.500000  ...       3.000000       4.000000\n",
              "max    23602.000000  5138.000000  ...      11.000000       4.000000\n",
              "\n",
              "[8 rows x 7 columns]"
            ]
          },
          "execution_count": 6,
          "metadata": {},
          "output_type": "execute_result"
        }
      ],
      "source": [
        "df_comp.describe()"
      ]
    },
    {
      "cell_type": "code",
      "execution_count": null,
      "id": "0795e722",
      "metadata": {
        "id": "0795e722",
        "outputId": "99157d91-6efe-439e-b361-1ea84d67b9cd"
      },
      "outputs": [
        {
          "data": {
            "text/plain": [
              "month            0\n",
              "Healthcare       0\n",
              "Telecom          0\n",
              "Banking          0\n",
              "Technology       0\n",
              "Insurance        0\n",
              "#ofphonelines    0\n",
              "#noofchannels    0\n",
              "dtype: int64"
            ]
          },
          "execution_count": 7,
          "metadata": {},
          "output_type": "execute_result"
        }
      ],
      "source": [
        "df_comp.isna().sum()"
      ]
    },
    {
      "cell_type": "markdown",
      "id": "d3a59aea",
      "metadata": {
        "id": "d3a59aea"
      },
      "source": [
        "## Setting date as Index"
      ]
    },
    {
      "cell_type": "code",
      "execution_count": null,
      "id": "2e1d31f5",
      "metadata": {
        "id": "2e1d31f5",
        "outputId": "8b6b68bd-fa98-4633-b6a9-fe9efbc3f429"
      },
      "outputs": [
        {
          "data": {
            "text/plain": [
              "count                     132\n",
              "unique                    132\n",
              "top       2010-01-31 00:00:00\n",
              "freq                        1\n",
              "first     2010-01-31 00:00:00\n",
              "last      2020-12-31 00:00:00\n",
              "Name: month, dtype: object"
            ]
          },
          "execution_count": 8,
          "metadata": {},
          "output_type": "execute_result"
        }
      ],
      "source": [
        "# taken as a date time field\n",
        "df_comp.month.describe()"
      ]
    },
    {
      "cell_type": "code",
      "execution_count": null,
      "id": "9c922625",
      "metadata": {
        "id": "9c922625"
      },
      "outputs": [],
      "source": [
        "df_comp.set_index(\"month\", inplace=True)"
      ]
    },
    {
      "cell_type": "code",
      "execution_count": null,
      "id": "5a310179",
      "metadata": {
        "id": "5a310179",
        "outputId": "bb103161-488c-4b95-d812-ff69d0846f3e"
      },
      "outputs": [
        {
          "data": {
            "text/html": [
              "<div>\n",
              "<style scoped>\n",
              "    .dataframe tbody tr th:only-of-type {\n",
              "        vertical-align: middle;\n",
              "    }\n",
              "\n",
              "    .dataframe tbody tr th {\n",
              "        vertical-align: top;\n",
              "    }\n",
              "\n",
              "    .dataframe thead th {\n",
              "        text-align: right;\n",
              "    }\n",
              "</style>\n",
              "<table border=\"1\" class=\"dataframe\">\n",
              "  <thead>\n",
              "    <tr style=\"text-align: right;\">\n",
              "      <th></th>\n",
              "      <th>Healthcare</th>\n",
              "      <th>Telecom</th>\n",
              "      <th>Banking</th>\n",
              "      <th>Technology</th>\n",
              "      <th>Insurance</th>\n",
              "      <th>#ofphonelines</th>\n",
              "      <th>#noofchannels</th>\n",
              "    </tr>\n",
              "    <tr>\n",
              "      <th>month</th>\n",
              "      <th></th>\n",
              "      <th></th>\n",
              "      <th></th>\n",
              "      <th></th>\n",
              "      <th></th>\n",
              "      <th></th>\n",
              "      <th></th>\n",
              "    </tr>\n",
              "  </thead>\n",
              "  <tbody>\n",
              "    <tr>\n",
              "      <th>2010-01-31</th>\n",
              "      <td>631</td>\n",
              "      <td>8</td>\n",
              "      <td>6</td>\n",
              "      <td>2</td>\n",
              "      <td>19</td>\n",
              "      <td>1</td>\n",
              "      <td>4</td>\n",
              "    </tr>\n",
              "    <tr>\n",
              "      <th>2010-02-28</th>\n",
              "      <td>633</td>\n",
              "      <td>9</td>\n",
              "      <td>7</td>\n",
              "      <td>3</td>\n",
              "      <td>27</td>\n",
              "      <td>1</td>\n",
              "      <td>3</td>\n",
              "    </tr>\n",
              "    <tr>\n",
              "      <th>2010-03-31</th>\n",
              "      <td>766</td>\n",
              "      <td>4</td>\n",
              "      <td>4</td>\n",
              "      <td>2</td>\n",
              "      <td>24</td>\n",
              "      <td>1</td>\n",
              "      <td>1</td>\n",
              "    </tr>\n",
              "    <tr>\n",
              "      <th>2010-04-30</th>\n",
              "      <td>768</td>\n",
              "      <td>12</td>\n",
              "      <td>6</td>\n",
              "      <td>3</td>\n",
              "      <td>32</td>\n",
              "      <td>1</td>\n",
              "      <td>1</td>\n",
              "    </tr>\n",
              "    <tr>\n",
              "      <th>2010-05-31</th>\n",
              "      <td>1003</td>\n",
              "      <td>2</td>\n",
              "      <td>7</td>\n",
              "      <td>2</td>\n",
              "      <td>42</td>\n",
              "      <td>1</td>\n",
              "      <td>4</td>\n",
              "    </tr>\n",
              "    <tr>\n",
              "      <th>2010-06-30</th>\n",
              "      <td>1046</td>\n",
              "      <td>5</td>\n",
              "      <td>13</td>\n",
              "      <td>2</td>\n",
              "      <td>44</td>\n",
              "      <td>1</td>\n",
              "      <td>2</td>\n",
              "    </tr>\n",
              "  </tbody>\n",
              "</table>\n",
              "</div>"
            ],
            "text/plain": [
              "            Healthcare  Telecom  Banking  Technology  Insurance  \\\n",
              "month                                                             \n",
              "2010-01-31         631        8        6           2         19   \n",
              "2010-02-28         633        9        7           3         27   \n",
              "2010-03-31         766        4        4           2         24   \n",
              "2010-04-30         768       12        6           3         32   \n",
              "2010-05-31        1003        2        7           2         42   \n",
              "2010-06-30        1046        5       13           2         44   \n",
              "\n",
              "            #ofphonelines  #noofchannels  \n",
              "month                                     \n",
              "2010-01-31              1              4  \n",
              "2010-02-28              1              3  \n",
              "2010-03-31              1              1  \n",
              "2010-04-30              1              1  \n",
              "2010-05-31              1              4  \n",
              "2010-06-30              1              2  "
            ]
          },
          "execution_count": 23,
          "metadata": {},
          "output_type": "execute_result"
        }
      ],
      "source": [
        "df_comp.head(6)"
      ]
    },
    {
      "cell_type": "code",
      "execution_count": null,
      "id": "22aa8c6d",
      "metadata": {
        "id": "22aa8c6d",
        "outputId": "be748797-1bd8-4947-a816-dbf2dc174082"
      },
      "outputs": [
        {
          "data": {
            "text/html": [
              "<div>\n",
              "<style scoped>\n",
              "    .dataframe tbody tr th:only-of-type {\n",
              "        vertical-align: middle;\n",
              "    }\n",
              "\n",
              "    .dataframe tbody tr th {\n",
              "        vertical-align: top;\n",
              "    }\n",
              "\n",
              "    .dataframe thead th {\n",
              "        text-align: right;\n",
              "    }\n",
              "</style>\n",
              "<table border=\"1\" class=\"dataframe\">\n",
              "  <thead>\n",
              "    <tr style=\"text-align: right;\">\n",
              "      <th></th>\n",
              "      <th>Healthcare</th>\n",
              "      <th>Telecom</th>\n",
              "      <th>Banking</th>\n",
              "      <th>Technology</th>\n",
              "      <th>Insurance</th>\n",
              "      <th>#ofphonelines</th>\n",
              "      <th>#noofchannels</th>\n",
              "    </tr>\n",
              "    <tr>\n",
              "      <th>month</th>\n",
              "      <th></th>\n",
              "      <th></th>\n",
              "      <th></th>\n",
              "      <th></th>\n",
              "      <th></th>\n",
              "      <th></th>\n",
              "      <th></th>\n",
              "    </tr>\n",
              "  </thead>\n",
              "  <tbody>\n",
              "    <tr>\n",
              "      <th>2010-01-31</th>\n",
              "      <td>631</td>\n",
              "      <td>8</td>\n",
              "      <td>6</td>\n",
              "      <td>2</td>\n",
              "      <td>19</td>\n",
              "      <td>1</td>\n",
              "      <td>4</td>\n",
              "    </tr>\n",
              "    <tr>\n",
              "      <th>2010-02-28</th>\n",
              "      <td>633</td>\n",
              "      <td>9</td>\n",
              "      <td>7</td>\n",
              "      <td>3</td>\n",
              "      <td>27</td>\n",
              "      <td>1</td>\n",
              "      <td>3</td>\n",
              "    </tr>\n",
              "    <tr>\n",
              "      <th>2010-03-31</th>\n",
              "      <td>766</td>\n",
              "      <td>4</td>\n",
              "      <td>4</td>\n",
              "      <td>2</td>\n",
              "      <td>24</td>\n",
              "      <td>1</td>\n",
              "      <td>1</td>\n",
              "    </tr>\n",
              "    <tr>\n",
              "      <th>2010-04-30</th>\n",
              "      <td>768</td>\n",
              "      <td>12</td>\n",
              "      <td>6</td>\n",
              "      <td>3</td>\n",
              "      <td>32</td>\n",
              "      <td>1</td>\n",
              "      <td>1</td>\n",
              "    </tr>\n",
              "    <tr>\n",
              "      <th>2010-05-31</th>\n",
              "      <td>1003</td>\n",
              "      <td>2</td>\n",
              "      <td>7</td>\n",
              "      <td>2</td>\n",
              "      <td>42</td>\n",
              "      <td>1</td>\n",
              "      <td>4</td>\n",
              "    </tr>\n",
              "    <tr>\n",
              "      <th>...</th>\n",
              "      <td>...</td>\n",
              "      <td>...</td>\n",
              "      <td>...</td>\n",
              "      <td>...</td>\n",
              "      <td>...</td>\n",
              "      <td>...</td>\n",
              "      <td>...</td>\n",
              "    </tr>\n",
              "    <tr>\n",
              "      <th>2020-08-31</th>\n",
              "      <td>20257</td>\n",
              "      <td>4486</td>\n",
              "      <td>1111</td>\n",
              "      <td>212</td>\n",
              "      <td>371</td>\n",
              "      <td>4</td>\n",
              "      <td>3</td>\n",
              "    </tr>\n",
              "    <tr>\n",
              "      <th>2020-09-30</th>\n",
              "      <td>19207</td>\n",
              "      <td>4474</td>\n",
              "      <td>1020</td>\n",
              "      <td>135</td>\n",
              "      <td>362</td>\n",
              "      <td>3</td>\n",
              "      <td>1</td>\n",
              "    </tr>\n",
              "    <tr>\n",
              "      <th>2020-10-31</th>\n",
              "      <td>23414</td>\n",
              "      <td>5138</td>\n",
              "      <td>1310</td>\n",
              "      <td>188</td>\n",
              "      <td>523</td>\n",
              "      <td>3</td>\n",
              "      <td>4</td>\n",
              "    </tr>\n",
              "    <tr>\n",
              "      <th>2020-11-30</th>\n",
              "      <td>23602</td>\n",
              "      <td>4883</td>\n",
              "      <td>1297</td>\n",
              "      <td>199</td>\n",
              "      <td>479</td>\n",
              "      <td>7</td>\n",
              "      <td>1</td>\n",
              "    </tr>\n",
              "    <tr>\n",
              "      <th>2020-12-31</th>\n",
              "      <td>20058</td>\n",
              "      <td>4150</td>\n",
              "      <td>1118</td>\n",
              "      <td>159</td>\n",
              "      <td>349</td>\n",
              "      <td>4</td>\n",
              "      <td>2</td>\n",
              "    </tr>\n",
              "  </tbody>\n",
              "</table>\n",
              "<p>132 rows × 7 columns</p>\n",
              "</div>"
            ],
            "text/plain": [
              "            Healthcare  Telecom  Banking  Technology  Insurance  \\\n",
              "month                                                             \n",
              "2010-01-31         631        8        6           2         19   \n",
              "2010-02-28         633        9        7           3         27   \n",
              "2010-03-31         766        4        4           2         24   \n",
              "2010-04-30         768       12        6           3         32   \n",
              "2010-05-31        1003        2        7           2         42   \n",
              "...                ...      ...      ...         ...        ...   \n",
              "2020-08-31       20257     4486     1111         212        371   \n",
              "2020-09-30       19207     4474     1020         135        362   \n",
              "2020-10-31       23414     5138     1310         188        523   \n",
              "2020-11-30       23602     4883     1297         199        479   \n",
              "2020-12-31       20058     4150     1118         159        349   \n",
              "\n",
              "            #ofphonelines  #noofchannels  \n",
              "month                                     \n",
              "2010-01-31              1              4  \n",
              "2010-02-28              1              3  \n",
              "2010-03-31              1              1  \n",
              "2010-04-30              1              1  \n",
              "2010-05-31              1              4  \n",
              "...                   ...            ...  \n",
              "2020-08-31              4              3  \n",
              "2020-09-30              3              1  \n",
              "2020-10-31              3              4  \n",
              "2020-11-30              7              1  \n",
              "2020-12-31              4              2  \n",
              "\n",
              "[132 rows x 7 columns]"
            ]
          },
          "execution_count": 11,
          "metadata": {},
          "output_type": "execute_result"
        }
      ],
      "source": [
        "# seeting the frequency as monthly\n",
        "df_comp.asfreq('M')"
      ]
    },
    {
      "cell_type": "code",
      "execution_count": null,
      "id": "7ea70f5c",
      "metadata": {
        "id": "7ea70f5c"
      },
      "outputs": [],
      "source": [
        "# seeting the frequency as monthly\n",
        "df_comp = df_comp.asfreq('M')"
      ]
    },
    {
      "cell_type": "code",
      "execution_count": null,
      "id": "9df96c6c",
      "metadata": {
        "id": "9df96c6c",
        "outputId": "ff8d8f74-569d-4a73-c839-f5e59b678d4e"
      },
      "outputs": [
        {
          "data": {
            "text/plain": [
              "Healthcare       0\n",
              "Telecom          0\n",
              "Banking          0\n",
              "Technology       0\n",
              "Insurance        0\n",
              "#ofphonelines    0\n",
              "#noofchannels    0\n",
              "dtype: int64"
            ]
          },
          "execution_count": 14,
          "metadata": {},
          "output_type": "execute_result"
        }
      ],
      "source": [
        "# checking for the null values\n",
        "df_comp.isna().sum()"
      ]
    },
    {
      "cell_type": "markdown",
      "id": "d1d8bdfe",
      "metadata": {
        "id": "d1d8bdfe"
      },
      "source": [
        "## Time Series Visualization"
      ]
    },
    {
      "cell_type": "code",
      "execution_count": null,
      "id": "dd95b70f",
      "metadata": {
        "id": "dd95b70f",
        "outputId": "2821f3a4-d012-49c4-a4c7-d00953dc42f1"
      },
      "outputs": [
        {
          "data": {
            "image/png": "[encoded data removed]",
            "text/plain": [
              "<Figure size 1440x360 with 1 Axes>"
            ]
          },
          "metadata": {
            "needs_background": "light"
          },
          "output_type": "display_data"
        }
      ],
      "source": [
        "df_comp.Healthcare.plot(figsize=(20,5), title=\"Healthcare\")\n",
        "plt.show()"
      ]
    },
    {
      "cell_type": "code",
      "execution_count": null,
      "id": "847e5019",
      "metadata": {
        "id": "847e5019",
        "outputId": "accbb6c3-965f-49ae-d08d-f7c31f02dafc"
      },
      "outputs": [
        {
          "data": {
            "image/png": "[encoded data removed]",
            "text/plain": [
              "<Figure size 1440x360 with 1 Axes>"
            ]
          },
          "metadata": {
            "needs_background": "light"
          },
          "output_type": "display_data"
        }
      ],
      "source": [
        "df_comp.Telecom.plot(figsize=(20,5), title=\"Telecom\")\n",
        "plt.show()"
      ]
    },
    {
      "cell_type": "code",
      "execution_count": null,
      "id": "202b8527",
      "metadata": {
        "id": "202b8527",
        "outputId": "58b6086f-cd72-42bc-882d-2234f855d271"
      },
      "outputs": [
        {
          "data": {
            "image/png": "[encoded data removed]",
            "text/plain": [
              "<Figure size 1440x360 with 1 Axes>"
            ]
          },
          "metadata": {
            "needs_background": "light"
          },
          "output_type": "display_data"
        }
      ],
      "source": [
        "df_comp.Banking.plot(figsize=(20,5), title=\"Banking\")\n",
        "plt.show()"
      ]
    },
    {
      "cell_type": "code",
      "execution_count": null,
      "id": "62a10a1a",
      "metadata": {
        "id": "62a10a1a",
        "outputId": "4863e414-c60e-4849-82ee-8f3d240089e8"
      },
      "outputs": [
        {
          "data": {
            "image/png": "[encoded data removed]",
            "text/plain": [
              "<Figure size 1440x360 with 1 Axes>"
            ]
          },
          "metadata": {
            "needs_background": "light"
          },
          "output_type": "display_data"
        }
      ],
      "source": [
        "df_comp.Technology.plot(figsize=(20,5), title=\"Technology\")\n",
        "plt.show()"
      ]
    },
    {
      "cell_type": "code",
      "execution_count": null,
      "id": "e183f1dc",
      "metadata": {
        "id": "e183f1dc",
        "outputId": "e4abaaf3-8be1-42a4-a88f-3d0766ad0f17"
      },
      "outputs": [
        {
          "data": {
            "image/png": "[encoded data removed]",
            "text/plain": [
              "<Figure size 1440x360 with 1 Axes>"
            ]
          },
          "metadata": {
            "needs_background": "light"
          },
          "output_type": "display_data"
        }
      ],
      "source": [
        "df_comp.Insurance.plot(figsize=(20,5), title=\"Insurance\")\n",
        "plt.show()"
      ]
    },
    {
      "cell_type": "markdown",
      "id": "70586223",
      "metadata": {
        "id": "70586223"
      },
      "source": [
        "## Setting the training format"
      ]
    },
    {
      "cell_type": "code",
      "execution_count": 7,
      "id": "0308d792",
      "metadata": {
        "id": "0308d792"
      },
      "outputs": [],
      "source": [
        "data = df_comp.Healthcare"
      ]
    },
    {
      "cell_type": "code",
      "execution_count": 8,
      "id": "cb540b77",
      "metadata": {
        "colab": {
          "base_uri": "https://localhost:8080/"
        },
        "id": "cb540b77",
        "outputId": "b2aed044-a5a7-46ad-f147-0132e146afd2",
        "scrolled": true
      },
      "outputs": [
        {
          "data": {
            "text/plain": [
              "[[631, 633, 766, 768, 1003, 1046],\n",
              " [633, 766, 768, 1003, 1046, 1165],\n",
              " [766, 768, 1003, 1046, 1165, 1143],\n",
              " [768, 1003, 1046, 1165, 1143, 1169],\n",
              " [1003, 1046, 1165, 1143, 1169, 1424],\n",
              " [1046, 1165, 1143, 1169, 1424, 1562],\n",
              " [1165, 1143, 1169, 1424, 1562, 1552],\n",
              " [1143, 1169, 1424, 1562, 1552, 1952],\n",
              " [1169, 1424, 1562, 1552, 1952, 1872],\n",
              " [1424, 1562, 1552, 1952, 1872, 2076],\n",
              " [1562, 1552, 1952, 1872, 2076, 1817],\n",
              " [1552, 1952, 1872, 2076, 1817, 2017],\n",
              " [1952, 1872, 2076, 1817, 2017, 2214],\n",
              " [1872, 2076, 1817, 2017, 2214, 2607],\n",
              " [2076, 1817, 2017, 2214, 2607, 2498],\n",
              " [1817, 2017, 2214, 2607, 2498, 2254],\n",
              " [2017, 2214, 2607, 2498, 2254, 2671],\n",
              " [2214, 2607, 2498, 2254, 2671, 2619],\n",
              " [2607, 2498, 2254, 2671, 2619, 2441],\n",
              " [2498, 2254, 2671, 2619, 2441, 2913],\n",
              " [2254, 2671, 2619, 2441, 2913, 3024],\n",
              " [2671, 2619, 2441, 2913, 3024, 3763],\n",
              " [2619, 2441, 2913, 3024, 3763, 3359],\n",
              " [2441, 2913, 3024, 3763, 3359, 3538],\n",
              " [2913, 3024, 3763, 3359, 3538, 3485],\n",
              " [3024, 3763, 3359, 3538, 3485, 3688],\n",
              " [3763, 3359, 3538, 3485, 3688, 3849],\n",
              " [3359, 3538, 3485, 3688, 3849, 3526],\n",
              " [3538, 3485, 3688, 3849, 3526, 3639],\n",
              " [3485, 3688, 3849, 3526, 3639, 3889],\n",
              " [3688, 3849, 3526, 3639, 3889, 3555],\n",
              " [3849, 3526, 3639, 3889, 3555, 4232],\n",
              " [3526, 3639, 3889, 3555, 4232, 4517],\n",
              " [3639, 3889, 3555, 4232, 4517, 5073],\n",
              " [3889, 3555, 4232, 4517, 5073, 4948],\n",
              " [3555, 4232, 4517, 5073, 4948, 5133],\n",
              " [4232, 4517, 5073, 4948, 5133, 5295],\n",
              " [4517, 5073, 4948, 5133, 5295, 5751],\n",
              " [5073, 4948, 5133, 5295, 5751, 5882],\n",
              " [4948, 5133, 5295, 5751, 5882, 5273],\n",
              " [5133, 5295, 5751, 5882, 5273, 6154],\n",
              " [5295, 5751, 5882, 5273, 6154, 6408],\n",
              " [5751, 5882, 5273, 6154, 6408, 5636],\n",
              " [5882, 5273, 6154, 6408, 5636, 6605],\n",
              " [5273, 6154, 6408, 5636, 6605, 6793],\n",
              " [6154, 6408, 5636, 6605, 6793, 7680],\n",
              " [6408, 5636, 6605, 6793, 7680, 7975],\n",
              " [5636, 6605, 6793, 7680, 7975, 7862],\n",
              " [6605, 6793, 7680, 7975, 7862, 7640],\n",
              " [6793, 7680, 7975, 7862, 7640, 8656],\n",
              " [7680, 7975, 7862, 7640, 8656, 7974],\n",
              " [7975, 7862, 7640, 8656, 7974, 7999],\n",
              " [7862, 7640, 8656, 7974, 7999, 9539],\n",
              " [7640, 8656, 7974, 7999, 9539, 9546],\n",
              " [8656, 7974, 7999, 9539, 9546, 8306],\n",
              " [7974, 7999, 9539, 9546, 8306, 9892],\n",
              " [7999, 9539, 9546, 8306, 9892, 9951],\n",
              " [9539, 9546, 8306, 9892, 9951, 11483],\n",
              " [9546, 8306, 9892, 9951, 11483, 10839],\n",
              " [8306, 9892, 9951, 11483, 10839, 9330],\n",
              " [9892, 9951, 11483, 10839, 9330, 8967],\n",
              " [9951, 11483, 10839, 9330, 8967, 9999],\n",
              " [11483, 10839, 9330, 8967, 9999, 9170],\n",
              " [10839, 9330, 8967, 9999, 9170, 8829],\n",
              " [9330, 8967, 9999, 9170, 8829, 9651],\n",
              " [8967, 9999, 9170, 8829, 9651, 9652],\n",
              " [9999, 9170, 8829, 9651, 9652, 8886],\n",
              " [9170, 8829, 9651, 9652, 8886, 9757],\n",
              " [8829, 9651, 9652, 8886, 9757, 10264],\n",
              " [9651, 9652, 8886, 9757, 10264, 11685],\n",
              " [9652, 8886, 9757, 10264, 11685, 11522],\n",
              " [8886, 9757, 10264, 11685, 11522, 11286],\n",
              " [9757, 10264, 11685, 11522, 11286, 11887],\n",
              " [10264, 11685, 11522, 11286, 11887, 12392],\n",
              " [11685, 11522, 11286, 11887, 12392, 11296],\n",
              " [11522, 11286, 11887, 12392, 11296, 11040],\n",
              " [11286, 11887, 12392, 11296, 11040, 12578],\n",
              " [11887, 12392, 11296, 11040, 12578, 12384],\n",
              " [12392, 11296, 11040, 12578, 12384, 11446],\n",
              " [11296, 11040, 12578, 12384, 11446, 12439],\n",
              " [11040, 12578, 12384, 11446, 12439, 13334],\n",
              " [12578, 12384, 11446, 12439, 13334, 14173],\n",
              " [12384, 11446, 12439, 13334, 14173, 13775],\n",
              " [11446, 12439, 13334, 14173, 13775, 13207],\n",
              " [12439, 13334, 14173, 13775, 13207, 13009],\n",
              " [13334, 14173, 13775, 13207, 13009, 12943],\n",
              " [14173, 13775, 13207, 13009, 12943, 13006],\n",
              " [13775, 13207, 13009, 12943, 13006, 12424],\n",
              " [13207, 13009, 12943, 13006, 12424, 13616],\n",
              " [13009, 12943, 13006, 12424, 13616, 14296],\n",
              " [12943, 13006, 12424, 13616, 14296, 12889],\n",
              " [13006, 12424, 13616, 14296, 12889, 14388],\n",
              " [12424, 13616, 14296, 12889, 14388, 14901],\n",
              " [13616, 14296, 12889, 14388, 14901, 17280],\n",
              " [14296, 12889, 14388, 14901, 17280, 15752],\n",
              " [12889, 14388, 14901, 17280, 15752, 16291],\n",
              " [14388, 14901, 17280, 15752, 16291, 16173],\n",
              " [14901, 17280, 15752, 16291, 16173, 17064],\n",
              " [17280, 15752, 16291, 16173, 17064, 17472],\n",
              " [15752, 16291, 16173, 17064, 17472, 16949],\n",
              " [16291, 16173, 17064, 17472, 16949, 18735],\n",
              " [16173, 17064, 17472, 16949, 18735, 18935],\n",
              " [17064, 17472, 16949, 18735, 18935, 16207],\n",
              " [17472, 16949, 18735, 18935, 16207, 16307],\n",
              " [16949, 18735, 18935, 16207, 16307, 16393],\n",
              " [18735, 18935, 16207, 16307, 16393, 17970],\n",
              " [18935, 16207, 16307, 16393, 17970, 17030],\n",
              " [16207, 16307, 16393, 17970, 17030, 17639],\n",
              " [16307, 16393, 17970, 17030, 17639, 16860],\n",
              " [16393, 17970, 17030, 17639, 16860, 17988],\n",
              " [17970, 17030, 17639, 16860, 17988, 17874],\n",
              " [17030, 17639, 16860, 17988, 17874, 16158],\n",
              " [17639, 16860, 17988, 17874, 16158, 18329],\n",
              " [16860, 17988, 17874, 16158, 18329, 18215],\n",
              " [17988, 17874, 16158, 18329, 18215, 15537],\n",
              " [17874, 16158, 18329, 18215, 15537, 17167],\n",
              " [16158, 18329, 18215, 15537, 17167, 17749],\n",
              " [18329, 18215, 15537, 17167, 17749, 20144],\n",
              " [18215, 15537, 17167, 17749, 20144, 20054],\n",
              " [15537, 17167, 17749, 20144, 20054, 19128],\n",
              " [17167, 17749, 20144, 20054, 19128, 17515],\n",
              " [17749, 20144, 20054, 19128, 17515, 20041],\n",
              " [20144, 20054, 19128, 17515, 20041, 20257],\n",
              " [20054, 19128, 17515, 20041, 20257, 19207],\n",
              " [19128, 17515, 20041, 20257, 19207, 23414],\n",
              " [17515, 20041, 20257, 19207, 23414, 23602],\n",
              " [20041, 20257, 19207, 23414, 23602, 20058]]"
            ]
          },
          "execution_count": 8,
          "metadata": {},
          "output_type": "execute_result"
        }
      ],
      "source": [
        "#As required for LSTM networks, we require to reshape an input data into n_samples x timesteps x n_features. \n",
        "#In this example, the n_features is 5. We will make timesteps = 14 (past days data used for training). \n",
        "\n",
        "#Empty lists to be populated using formatted training data\n",
        "target_data = []\n",
        "\n",
        "# Number of days we want to look into the future based on the past days.\n",
        "n_past = 5  # Number of past days we want to use to predict the future.\n",
        "\n",
        "#Reformat input data into a shape: (n_samples x timesteps x n_features)\n",
        "#In my example, my df_for_training_scaled has a shape (?)\n",
        "#refers to the number of data points and 5 refers to the columns (multi-variables).\n",
        "for i in range(len(data)):\n",
        "    temp = []\n",
        "    for j in range(n_past + 1):\n",
        "        try:\n",
        "            temp.append(data[i+j])\n",
        "        except Exception as e:\n",
        "            continue\n",
        "    if len(temp) > 5:\n",
        "        target_data.append(temp)\n",
        "\n",
        "len(target_data)\n",
        "target_data"
      ]
    },
    {
      "cell_type": "markdown",
      "id": "906ae66d",
      "metadata": {
        "id": "906ae66d"
      },
      "source": [
        "## Train Test Split"
      ]
    },
    {
      "cell_type": "code",
      "execution_count": 9,
      "id": "2b213784",
      "metadata": {
        "id": "2b213784"
      },
      "outputs": [],
      "source": [
        "import warnings\n",
        "warnings.filterwarnings(\"ignore\")"
      ]
    },
    {
      "cell_type": "code",
      "execution_count": 10,
      "id": "c60ef023",
      "metadata": {
        "id": "c60ef023"
      },
      "outputs": [],
      "source": [
        "from sklearn.preprocessing import MinMaxScaler\n",
        "#LSTM uses sigmoid and tanh that are sensitive to magnitude so values need to be normalized\n",
        "# normalize the dataset\n",
        "scaler = MinMaxScaler(feature_range=(0, 1))\n",
        "scaler = scaler.fit(target_data)\n",
        "target_data_scaled = scaler.transform(target_data)\n"
      ]
    },
    {
      "cell_type": "code",
      "execution_count": 19,
      "id": "gRwm4FDzcluY",
      "metadata": {
        "id": "gRwm4FDzcluY"
      },
      "outputs": [],
      "source": [
        "import pickle\n",
        "pickle.dump(scaler, open(\"min-max-scaler.pkl\", \"wb\"))"
      ]
    },
    {
      "cell_type": "code",
      "execution_count": 17,
      "id": "0a4ad664",
      "metadata": {
        "id": "0a4ad664"
      },
      "outputs": [],
      "source": [
        "data_df = pd.DataFrame(target_data_scaled, columns=[\"t-4\",\"t-3\",\"t-2\",\"t-1\",\"t\",\"Y\"])"
      ]
    },
    {
      "cell_type": "code",
      "execution_count": 20,
      "id": "53cb6424",
      "metadata": {
        "colab": {
          "base_uri": "https://localhost:8080/",
          "height": 206
        },
        "id": "53cb6424",
        "outputId": "080e8438-65de-4f93-9a07-229a47b11852"
      },
      "outputs": [
        {
          "data": {
            "text/html": [
              "<div>\n",
              "<style scoped>\n",
              "    .dataframe tbody tr th:only-of-type {\n",
              "        vertical-align: middle;\n",
              "    }\n",
              "\n",
              "    .dataframe tbody tr th {\n",
              "        vertical-align: top;\n",
              "    }\n",
              "\n",
              "    .dataframe thead th {\n",
              "        text-align: right;\n",
              "    }\n",
              "</style>\n",
              "<table border=\"1\" class=\"dataframe\">\n",
              "  <thead>\n",
              "    <tr style=\"text-align: right;\">\n",
              "      <th></th>\n",
              "      <th>t-4</th>\n",
              "      <th>t-3</th>\n",
              "      <th>t-2</th>\n",
              "      <th>t-1</th>\n",
              "      <th>t</th>\n",
              "      <th>Y</th>\n",
              "    </tr>\n",
              "  </thead>\n",
              "  <tbody>\n",
              "    <tr>\n",
              "      <th>0</th>\n",
              "      <td>0.000000</td>\n",
              "      <td>0.000000</td>\n",
              "      <td>0.000000</td>\n",
              "      <td>0.000000</td>\n",
              "      <td>0.000000</td>\n",
              "      <td>0.000000</td>\n",
              "    </tr>\n",
              "    <tr>\n",
              "      <th>1</th>\n",
              "      <td>0.000102</td>\n",
              "      <td>0.006777</td>\n",
              "      <td>0.000103</td>\n",
              "      <td>0.010377</td>\n",
              "      <td>0.001903</td>\n",
              "      <td>0.005276</td>\n",
              "    </tr>\n",
              "    <tr>\n",
              "      <th>2</th>\n",
              "      <td>0.006918</td>\n",
              "      <td>0.006879</td>\n",
              "      <td>0.012159</td>\n",
              "      <td>0.012276</td>\n",
              "      <td>0.007168</td>\n",
              "      <td>0.004300</td>\n",
              "    </tr>\n",
              "    <tr>\n",
              "      <th>3</th>\n",
              "      <td>0.007021</td>\n",
              "      <td>0.018854</td>\n",
              "      <td>0.014366</td>\n",
              "      <td>0.017531</td>\n",
              "      <td>0.006195</td>\n",
              "      <td>0.005453</td>\n",
              "    </tr>\n",
              "    <tr>\n",
              "      <th>4</th>\n",
              "      <td>0.019064</td>\n",
              "      <td>0.021046</td>\n",
              "      <td>0.020471</td>\n",
              "      <td>0.016559</td>\n",
              "      <td>0.007345</td>\n",
              "      <td>0.016758</td>\n",
              "    </tr>\n",
              "  </tbody>\n",
              "</table>\n",
              "</div>"
            ],
            "text/plain": [
              "        t-4       t-3       t-2       t-1         t         Y\n",
              "0  0.000000  0.000000  0.000000  0.000000  0.000000  0.000000\n",
              "1  0.000102  0.006777  0.000103  0.010377  0.001903  0.005276\n",
              "2  0.006918  0.006879  0.012159  0.012276  0.007168  0.004300\n",
              "3  0.007021  0.018854  0.014366  0.017531  0.006195  0.005453\n",
              "4  0.019064  0.021046  0.020471  0.016559  0.007345  0.016758"
            ]
          },
          "execution_count": 20,
          "metadata": {},
          "output_type": "execute_result"
        }
      ],
      "source": [
        "data_df.head()"
      ]
    },
    {
      "cell_type": "code",
      "execution_count": 21,
      "id": "74245481",
      "metadata": {
        "id": "74245481"
      },
      "outputs": [],
      "source": [
        "# train set split\n",
        "test_size = 20\n",
        "\n",
        "train = data_df[:-test_size]\n",
        "test = data_df[-test_size:]"
      ]
    },
    {
      "cell_type": "code",
      "execution_count": 26,
      "id": "f42b73cc",
      "metadata": {
        "id": "f42b73cc"
      },
      "outputs": [],
      "source": [
        "X, Y = train.drop(\"Y\", axis=1).values, train[\"Y\"]\n",
        "X_train, X_valid, Y_train, Y_valid = train_test_split(X, Y, test_size=0.1, random_state=0)\n",
        "\n",
        "\n",
        "X_test, Y_test = test.drop(\"Y\", axis=1).values, test[\"Y\"]"
      ]
    },
    {
      "cell_type": "markdown",
      "id": "6f8f7558",
      "metadata": {
        "id": "6f8f7558"
      },
      "source": [
        "## Neural Networks (Dense)"
      ]
    },
    {
      "cell_type": "code",
      "execution_count": 23,
      "id": "182a06e3",
      "metadata": {
        "id": "182a06e3"
      },
      "outputs": [],
      "source": [
        "epochs = 100\n",
        "lr = 0.0003\n",
        "adam = optimizers.Adam(lr)"
      ]
    },
    {
      "cell_type": "code",
      "execution_count": 27,
      "id": "8f1100ae",
      "metadata": {
        "colab": {
          "base_uri": "https://localhost:8080/"
        },
        "id": "8f1100ae",
        "outputId": "806f6086-9951-4422-d5c9-0a96aaaf78d0"
      },
      "outputs": [
        {
          "name": "stdout",
          "output_type": "stream",
          "text": [
            "Model: \"sequential_1\"\n",
            "_________________________________________________________________\n",
            " Layer (type)                Output Shape              Param #   \n",
            "=================================================================\n",
            " dense (Dense)               (None, 100)               600       \n",
            "                                                                 \n",
            " dense_1 (Dense)             (None, 1)                 101       \n",
            "                                                                 \n",
            "=================================================================\n",
            "Total params: 701\n",
            "Trainable params: 701\n",
            "Non-trainable params: 0\n",
            "_________________________________________________________________\n"
          ]
        }
      ],
      "source": [
        "model_mlp = Sequential()\n",
        "model_mlp.add(Dense(100, activation='relu', input_dim=X_train.shape[1]))\n",
        "model_mlp.add(Dense(1))\n",
        "model_mlp.compile(loss='mse', optimizer=adam)\n",
        "model_mlp.summary()"
      ]
    },
    {
      "cell_type": "code",
      "execution_count": 28,
      "id": "96377311",
      "metadata": {
        "colab": {
          "base_uri": "https://localhost:8080/"
        },
        "id": "96377311",
        "outputId": "3c95f758-58f6-4b14-cee2-9cab1ecf831b"
      },
      "outputs": [
        {
          "name": "stdout",
          "output_type": "stream",
          "text": [
            "Epoch 1/100\n",
            "3/3 - 1s - loss: 0.1376 - val_loss: 0.1381 - 1s/epoch - 347ms/step\n",
            "Epoch 2/100\n",
            "3/3 - 0s - loss: 0.1240 - val_loss: 0.1245 - 60ms/epoch - 20ms/step\n",
            "Epoch 3/100\n",
            "3/3 - 0s - loss: 0.1122 - val_loss: 0.1117 - 36ms/epoch - 12ms/step\n",
            "Epoch 4/100\n",
            "3/3 - 0s - loss: 0.1014 - val_loss: 0.0998 - 32ms/epoch - 11ms/step\n",
            "Epoch 5/100\n",
            "3/3 - 0s - loss: 0.0900 - val_loss: 0.0888 - 37ms/epoch - 12ms/step\n",
            "Epoch 6/100\n",
            "3/3 - 0s - loss: 0.0805 - val_loss: 0.0786 - 35ms/epoch - 12ms/step\n",
            "Epoch 7/100\n",
            "3/3 - 0s - loss: 0.0714 - val_loss: 0.0692 - 29ms/epoch - 10ms/step\n",
            "Epoch 8/100\n",
            "3/3 - 0s - loss: 0.0630 - val_loss: 0.0606 - 32ms/epoch - 11ms/step\n",
            "Epoch 9/100\n",
            "3/3 - 0s - loss: 0.0554 - val_loss: 0.0527 - 33ms/epoch - 11ms/step\n",
            "Epoch 10/100\n",
            "3/3 - 0s - loss: 0.0483 - val_loss: 0.0456 - 35ms/epoch - 12ms/step\n",
            "Epoch 11/100\n",
            "3/3 - 0s - loss: 0.0420 - val_loss: 0.0392 - 31ms/epoch - 10ms/step\n",
            "Epoch 12/100\n",
            "3/3 - 0s - loss: 0.0363 - val_loss: 0.0336 - 49ms/epoch - 16ms/step\n",
            "Epoch 13/100\n",
            "3/3 - 0s - loss: 0.0313 - val_loss: 0.0286 - 29ms/epoch - 10ms/step\n",
            "Epoch 14/100\n",
            "3/3 - 0s - loss: 0.0270 - val_loss: 0.0242 - 28ms/epoch - 9ms/step\n",
            "Epoch 15/100\n",
            "3/3 - 0s - loss: 0.0231 - val_loss: 0.0204 - 34ms/epoch - 11ms/step\n",
            "Epoch 16/100\n",
            "3/3 - 0s - loss: 0.0195 - val_loss: 0.0172 - 42ms/epoch - 14ms/step\n",
            "Epoch 17/100\n",
            "3/3 - 0s - loss: 0.0166 - val_loss: 0.0144 - 42ms/epoch - 14ms/step\n",
            "Epoch 18/100\n",
            "3/3 - 0s - loss: 0.0141 - val_loss: 0.0120 - 43ms/epoch - 14ms/step\n",
            "Epoch 19/100\n",
            "3/3 - 0s - loss: 0.0120 - val_loss: 0.0100 - 34ms/epoch - 11ms/step\n",
            "Epoch 20/100\n",
            "3/3 - 0s - loss: 0.0101 - val_loss: 0.0084 - 36ms/epoch - 12ms/step\n",
            "Epoch 21/100\n",
            "3/3 - 0s - loss: 0.0087 - val_loss: 0.0070 - 30ms/epoch - 10ms/step\n",
            "Epoch 22/100\n",
            "3/3 - 0s - loss: 0.0074 - val_loss: 0.0059 - 37ms/epoch - 12ms/step\n",
            "Epoch 23/100\n",
            "3/3 - 0s - loss: 0.0064 - val_loss: 0.0051 - 32ms/epoch - 11ms/step\n",
            "Epoch 24/100\n",
            "3/3 - 0s - loss: 0.0056 - val_loss: 0.0044 - 41ms/epoch - 14ms/step\n",
            "Epoch 25/100\n",
            "3/3 - 0s - loss: 0.0050 - val_loss: 0.0038 - 26ms/epoch - 9ms/step\n",
            "Epoch 26/100\n",
            "3/3 - 0s - loss: 0.0045 - val_loss: 0.0034 - 31ms/epoch - 10ms/step\n",
            "Epoch 27/100\n",
            "3/3 - 0s - loss: 0.0041 - val_loss: 0.0031 - 34ms/epoch - 11ms/step\n",
            "Epoch 28/100\n",
            "3/3 - 0s - loss: 0.0037 - val_loss: 0.0028 - 31ms/epoch - 10ms/step\n",
            "Epoch 29/100\n",
            "3/3 - 0s - loss: 0.0035 - val_loss: 0.0026 - 41ms/epoch - 14ms/step\n",
            "Epoch 30/100\n",
            "3/3 - 0s - loss: 0.0033 - val_loss: 0.0025 - 32ms/epoch - 11ms/step\n",
            "Epoch 31/100\n",
            "3/3 - 0s - loss: 0.0031 - val_loss: 0.0024 - 40ms/epoch - 13ms/step\n",
            "Epoch 32/100\n",
            "3/3 - 0s - loss: 0.0030 - val_loss: 0.0023 - 34ms/epoch - 11ms/step\n",
            "Epoch 33/100\n",
            "3/3 - 0s - loss: 0.0029 - val_loss: 0.0022 - 31ms/epoch - 10ms/step\n",
            "Epoch 34/100\n",
            "3/3 - 0s - loss: 0.0028 - val_loss: 0.0021 - 30ms/epoch - 10ms/step\n",
            "Epoch 35/100\n",
            "3/3 - 0s - loss: 0.0027 - val_loss: 0.0020 - 36ms/epoch - 12ms/step\n",
            "Epoch 36/100\n",
            "3/3 - 0s - loss: 0.0026 - val_loss: 0.0019 - 31ms/epoch - 10ms/step\n",
            "Epoch 37/100\n",
            "3/3 - 0s - loss: 0.0025 - val_loss: 0.0018 - 31ms/epoch - 10ms/step\n",
            "Epoch 38/100\n",
            "3/3 - 0s - loss: 0.0025 - val_loss: 0.0018 - 34ms/epoch - 11ms/step\n",
            "Epoch 39/100\n",
            "3/3 - 0s - loss: 0.0024 - val_loss: 0.0017 - 32ms/epoch - 11ms/step\n",
            "Epoch 40/100\n",
            "3/3 - 0s - loss: 0.0023 - val_loss: 0.0016 - 36ms/epoch - 12ms/step\n",
            "Epoch 41/100\n",
            "3/3 - 0s - loss: 0.0022 - val_loss: 0.0015 - 36ms/epoch - 12ms/step\n",
            "Epoch 42/100\n",
            "3/3 - 0s - loss: 0.0022 - val_loss: 0.0015 - 31ms/epoch - 10ms/step\n",
            "Epoch 43/100\n",
            "3/3 - 0s - loss: 0.0021 - val_loss: 0.0014 - 31ms/epoch - 10ms/step\n",
            "Epoch 44/100\n",
            "3/3 - 0s - loss: 0.0021 - val_loss: 0.0014 - 55ms/epoch - 18ms/step\n",
            "Epoch 45/100\n",
            "3/3 - 0s - loss: 0.0020 - val_loss: 0.0013 - 27ms/epoch - 9ms/step\n",
            "Epoch 46/100\n",
            "3/3 - 0s - loss: 0.0019 - val_loss: 0.0013 - 35ms/epoch - 12ms/step\n",
            "Epoch 47/100\n",
            "3/3 - 0s - loss: 0.0019 - val_loss: 0.0012 - 38ms/epoch - 13ms/step\n",
            "Epoch 48/100\n",
            "3/3 - 0s - loss: 0.0018 - val_loss: 0.0011 - 29ms/epoch - 10ms/step\n",
            "Epoch 49/100\n",
            "3/3 - 0s - loss: 0.0018 - val_loss: 0.0011 - 30ms/epoch - 10ms/step\n",
            "Epoch 50/100\n",
            "3/3 - 0s - loss: 0.0018 - val_loss: 0.0010 - 32ms/epoch - 11ms/step\n",
            "Epoch 51/100\n",
            "3/3 - 0s - loss: 0.0017 - val_loss: 9.8801e-04 - 31ms/epoch - 10ms/step\n",
            "Epoch 52/100\n",
            "3/3 - 0s - loss: 0.0017 - val_loss: 9.6056e-04 - 33ms/epoch - 11ms/step\n",
            "Epoch 53/100\n",
            "3/3 - 0s - loss: 0.0017 - val_loss: 9.3907e-04 - 36ms/epoch - 12ms/step\n",
            "Epoch 54/100\n",
            "3/3 - 0s - loss: 0.0016 - val_loss: 9.0678e-04 - 32ms/epoch - 11ms/step\n",
            "Epoch 55/100\n",
            "3/3 - 0s - loss: 0.0016 - val_loss: 8.8287e-04 - 47ms/epoch - 16ms/step\n",
            "Epoch 56/100\n",
            "3/3 - 0s - loss: 0.0016 - val_loss: 8.6686e-04 - 40ms/epoch - 13ms/step\n",
            "Epoch 57/100\n",
            "3/3 - 0s - loss: 0.0015 - val_loss: 8.5153e-04 - 30ms/epoch - 10ms/step\n",
            "Epoch 58/100\n",
            "3/3 - 0s - loss: 0.0015 - val_loss: 8.3831e-04 - 32ms/epoch - 11ms/step\n",
            "Epoch 59/100\n",
            "3/3 - 0s - loss: 0.0015 - val_loss: 8.2972e-04 - 33ms/epoch - 11ms/step\n",
            "Epoch 60/100\n",
            "3/3 - 0s - loss: 0.0015 - val_loss: 8.0668e-04 - 42ms/epoch - 14ms/step\n",
            "Epoch 61/100\n",
            "3/3 - 0s - loss: 0.0015 - val_loss: 7.8255e-04 - 31ms/epoch - 10ms/step\n",
            "Epoch 62/100\n",
            "3/3 - 0s - loss: 0.0014 - val_loss: 7.6087e-04 - 33ms/epoch - 11ms/step\n",
            "Epoch 63/100\n",
            "3/3 - 0s - loss: 0.0014 - val_loss: 7.4593e-04 - 34ms/epoch - 11ms/step\n",
            "Epoch 64/100\n",
            "3/3 - 0s - loss: 0.0014 - val_loss: 7.3988e-04 - 31ms/epoch - 10ms/step\n",
            "Epoch 65/100\n",
            "3/3 - 0s - loss: 0.0014 - val_loss: 7.3349e-04 - 32ms/epoch - 11ms/step\n",
            "Epoch 66/100\n",
            "3/3 - 0s - loss: 0.0014 - val_loss: 7.2487e-04 - 37ms/epoch - 12ms/step\n",
            "Epoch 67/100\n",
            "3/3 - 0s - loss: 0.0014 - val_loss: 7.1341e-04 - 33ms/epoch - 11ms/step\n",
            "Epoch 68/100\n",
            "3/3 - 0s - loss: 0.0013 - val_loss: 7.0066e-04 - 33ms/epoch - 11ms/step\n",
            "Epoch 69/100\n",
            "3/3 - 0s - loss: 0.0013 - val_loss: 6.8819e-04 - 37ms/epoch - 12ms/step\n",
            "Epoch 70/100\n",
            "3/3 - 0s - loss: 0.0013 - val_loss: 6.8895e-04 - 39ms/epoch - 13ms/step\n",
            "Epoch 71/100\n",
            "3/3 - 0s - loss: 0.0013 - val_loss: 6.8667e-04 - 33ms/epoch - 11ms/step\n",
            "Epoch 72/100\n",
            "3/3 - 0s - loss: 0.0013 - val_loss: 6.8379e-04 - 35ms/epoch - 12ms/step\n",
            "Epoch 73/100\n",
            "3/3 - 0s - loss: 0.0013 - val_loss: 6.7262e-04 - 45ms/epoch - 15ms/step\n",
            "Epoch 74/100\n",
            "3/3 - 0s - loss: 0.0013 - val_loss: 6.7669e-04 - 36ms/epoch - 12ms/step\n",
            "Epoch 75/100\n",
            "3/3 - 0s - loss: 0.0013 - val_loss: 6.6688e-04 - 29ms/epoch - 10ms/step\n",
            "Epoch 76/100\n",
            "3/3 - 0s - loss: 0.0013 - val_loss: 6.7365e-04 - 35ms/epoch - 12ms/step\n",
            "Epoch 77/100\n",
            "3/3 - 0s - loss: 0.0013 - val_loss: 6.6156e-04 - 56ms/epoch - 19ms/step\n",
            "Epoch 78/100\n",
            "3/3 - 0s - loss: 0.0013 - val_loss: 6.5436e-04 - 33ms/epoch - 11ms/step\n",
            "Epoch 79/100\n",
            "3/3 - 0s - loss: 0.0012 - val_loss: 6.5019e-04 - 39ms/epoch - 13ms/step\n",
            "Epoch 80/100\n",
            "3/3 - 0s - loss: 0.0012 - val_loss: 6.5174e-04 - 43ms/epoch - 14ms/step\n",
            "Epoch 81/100\n",
            "3/3 - 0s - loss: 0.0012 - val_loss: 6.5865e-04 - 58ms/epoch - 19ms/step\n",
            "Epoch 82/100\n",
            "3/3 - 0s - loss: 0.0012 - val_loss: 6.5465e-04 - 43ms/epoch - 14ms/step\n",
            "Epoch 83/100\n",
            "3/3 - 0s - loss: 0.0012 - val_loss: 6.4983e-04 - 39ms/epoch - 13ms/step\n",
            "Epoch 84/100\n",
            "3/3 - 0s - loss: 0.0012 - val_loss: 6.5159e-04 - 50ms/epoch - 17ms/step\n",
            "Epoch 85/100\n",
            "3/3 - 0s - loss: 0.0012 - val_loss: 6.5316e-04 - 38ms/epoch - 13ms/step\n",
            "Epoch 86/100\n",
            "3/3 - 0s - loss: 0.0012 - val_loss: 6.4647e-04 - 37ms/epoch - 12ms/step\n",
            "Epoch 87/100\n",
            "3/3 - 0s - loss: 0.0012 - val_loss: 6.5416e-04 - 38ms/epoch - 13ms/step\n",
            "Epoch 88/100\n",
            "3/3 - 0s - loss: 0.0012 - val_loss: 6.5521e-04 - 36ms/epoch - 12ms/step\n",
            "Epoch 89/100\n",
            "3/3 - 0s - loss: 0.0012 - val_loss: 6.5663e-04 - 41ms/epoch - 14ms/step\n",
            "Epoch 90/100\n",
            "3/3 - 0s - loss: 0.0012 - val_loss: 6.6911e-04 - 32ms/epoch - 11ms/step\n",
            "Epoch 91/100\n",
            "3/3 - 0s - loss: 0.0012 - val_loss: 6.6491e-04 - 41ms/epoch - 14ms/step\n",
            "Epoch 92/100\n",
            "3/3 - 0s - loss: 0.0012 - val_loss: 6.7139e-04 - 38ms/epoch - 13ms/step\n",
            "Epoch 93/100\n",
            "3/3 - 0s - loss: 0.0012 - val_loss: 6.7358e-04 - 39ms/epoch - 13ms/step\n",
            "Epoch 94/100\n",
            "3/3 - 0s - loss: 0.0012 - val_loss: 6.7271e-04 - 46ms/epoch - 15ms/step\n",
            "Epoch 95/100\n",
            "3/3 - 0s - loss: 0.0012 - val_loss: 6.8091e-04 - 39ms/epoch - 13ms/step\n",
            "Epoch 96/100\n",
            "3/3 - 0s - loss: 0.0012 - val_loss: 6.7869e-04 - 44ms/epoch - 15ms/step\n",
            "Epoch 97/100\n",
            "3/3 - 0s - loss: 0.0012 - val_loss: 6.8066e-04 - 46ms/epoch - 15ms/step\n",
            "Epoch 98/100\n",
            "3/3 - 0s - loss: 0.0012 - val_loss: 6.8470e-04 - 44ms/epoch - 15ms/step\n",
            "Epoch 99/100\n",
            "3/3 - 0s - loss: 0.0012 - val_loss: 6.9020e-04 - 35ms/epoch - 12ms/step\n",
            "Epoch 100/100\n",
            "3/3 - 0s - loss: 0.0012 - val_loss: 6.8814e-04 - 43ms/epoch - 14ms/step\n"
          ]
        }
      ],
      "source": [
        "mlp_history = model_mlp.fit(X_train, Y_train, validation_data=(X_valid, Y_valid), \n",
        "                            epochs=epochs, verbose=2)"
      ]
    },
    {
      "cell_type": "code",
      "execution_count": 31,
      "id": "69f64ae1",
      "metadata": {
        "id": "69f64ae1"
      },
      "outputs": [],
      "source": [
        "mlp_pred = model_mlp.predict(X_test)"
      ]
    },
    {
      "cell_type": "code",
      "execution_count": 30,
      "id": "oJsLkKzbdJYr",
      "metadata": {
        "colab": {
          "base_uri": "https://localhost:8080/"
        },
        "id": "oJsLkKzbdJYr",
        "outputId": "c986f22e-b94b-4009-88ae-7271372fde46"
      },
      "outputs": [
        {
          "name": "stdout",
          "output_type": "stream",
          "text": [
            "INFO:tensorflow:Assets written to: ram://62cf50de-a6dc-4331-ab60-ffddd0f98f97/assets\n"
          ]
        }
      ],
      "source": [
        "pickle.dump(model_mlp, open(\"../Output/model.pkl\", \"wb\"))"
      ]
    },
    {
      "cell_type": "code",
      "execution_count": 32,
      "id": "8FEvF3Hddd9B",
      "metadata": {
        "id": "8FEvF3Hddd9B"
      },
      "outputs": [],
      "source": [
        "model = pickle.load(open(\"../Output/model.pkl\", \"rb\"))"
      ]
    },
    {
      "cell_type": "code",
      "execution_count": 33,
      "id": "sW1EPVZZdinK",
      "metadata": {
        "id": "sW1EPVZZdinK"
      },
      "outputs": [],
      "source": [
        "mlp_pred = model_mlp.predict(X_test)"
      ]
    },
    {
      "cell_type": "code",
      "execution_count": 34,
      "id": "xs9Nk5xKdl7V",
      "metadata": {
        "colab": {
          "base_uri": "https://localhost:8080/"
        },
        "id": "xs9Nk5xKdl7V",
        "outputId": "6de68913-47e7-4cba-f76c-ac0806fa8616"
      },
      "outputs": [
        {
          "data": {
            "text/plain": [
              "array([[0.7090929 ],\n",
              "       [0.72332805],\n",
              "       [0.729132  ],\n",
              "       [0.74171036],\n",
              "       [0.74124277],\n",
              "       [0.7304382 ],\n",
              "       [0.7458531 ],\n",
              "       [0.7477884 ],\n",
              "       [0.7215952 ],\n",
              "       [0.73185366],\n",
              "       [0.7348731 ],\n",
              "       [0.7412813 ],\n",
              "       [0.75754017],\n",
              "       [0.78829646],\n",
              "       [0.7995905 ],\n",
              "       [0.8229527 ],\n",
              "       [0.81393474],\n",
              "       [0.799358  ],\n",
              "       [0.8432687 ],\n",
              "       [0.88355756]], dtype=float32)"
            ]
          },
          "execution_count": 34,
          "metadata": {},
          "output_type": "execute_result"
        }
      ],
      "source": [
        "mlp_pred"
      ]
    },
    {
      "cell_type": "code",
      "execution_count": null,
      "id": "60ca7063",
      "metadata": {
        "id": "60ca7063",
        "outputId": "a47e6340-0e74-4ad5-ec59-2a24d7f722ea"
      },
      "outputs": [
        {
          "data": {
            "image/png": "[encoded data removed]",
            "text/plain": [
              "<Figure size 1440x360 with 1 Axes>"
            ]
          },
          "metadata": {
            "needs_background": "light"
          },
          "output_type": "display_data"
        }
      ],
      "source": [
        "# plot\n",
        "plt.figure(figsize=(20,5))\n",
        "plt.plot(mlp_pred)\n",
        "plt.plot(Y_test.values, color='red')\n",
        "plt.show()"
      ]
    },
    {
      "cell_type": "markdown",
      "id": "9a9d69c0",
      "metadata": {
        "id": "9a9d69c0"
      },
      "source": [
        "## CNN"
      ]
    },
    {
      "cell_type": "code",
      "execution_count": null,
      "id": "c7eccbeb",
      "metadata": {
        "id": "c7eccbeb",
        "outputId": "658d3b88-e5d1-405b-8712-d3bef7ef28fa"
      },
      "outputs": [
        {
          "name": "stdout",
          "output_type": "stream",
          "text": [
            "Train set shape (96, 5, 1)\n",
            "Validation set shape (11, 5, 1)\n"
          ]
        }
      ],
      "source": [
        "X_train_series = X_train.reshape((X_train.shape[0], X_train.shape[1], 1))\n",
        "X_valid_series = X_valid.reshape((X_valid.shape[0], X_valid.shape[1], 1))\n",
        "print('Train set shape', X_train_series.shape)\n",
        "print('Validation set shape', X_valid_series.shape)"
      ]
    },
    {
      "cell_type": "code",
      "execution_count": null,
      "id": "840cdf9e",
      "metadata": {
        "id": "840cdf9e",
        "outputId": "b9c9be9d-c75c-41c7-8b30-4a7e54f9b7cf"
      },
      "outputs": [
        {
          "name": "stdout",
          "output_type": "stream",
          "text": [
            "Model: \"sequential_2\"\n",
            "_________________________________________________________________\n",
            " Layer (type)                Output Shape              Param #   \n",
            "=================================================================\n",
            " conv1d (Conv1D)             (None, 4, 64)             192       \n",
            "                                                                 \n",
            " max_pooling1d (MaxPooling1D  (None, 2, 64)            0         \n",
            " )                                                               \n",
            "                                                                 \n",
            " flatten (Flatten)           (None, 128)               0         \n",
            "                                                                 \n",
            " dense_4 (Dense)             (None, 50)                6450      \n",
            "                                                                 \n",
            " dense_5 (Dense)             (None, 1)                 51        \n",
            "                                                                 \n",
            "=================================================================\n",
            "Total params: 6,693\n",
            "Trainable params: 6,693\n",
            "Non-trainable params: 0\n",
            "_________________________________________________________________\n"
          ]
        }
      ],
      "source": [
        "model_cnn = Sequential()\n",
        "model_cnn.add(Conv1D(filters=64, kernel_size=2, activation='relu', input_shape=(X_train_series.shape[1], X_train_series.shape[2])))\n",
        "model_cnn.add(MaxPooling1D(pool_size=2))\n",
        "model_cnn.add(Flatten())\n",
        "model_cnn.add(Dense(50, activation='relu'))\n",
        "model_cnn.add(Dense(1))\n",
        "model_cnn.compile(loss='mse', optimizer=adam)\n",
        "model_cnn.summary()"
      ]
    },
    {
      "cell_type": "code",
      "execution_count": null,
      "id": "78f31df7",
      "metadata": {
        "id": "78f31df7",
        "outputId": "c0596ebb-9520-4a12-f6f2-f35c459e910f",
        "scrolled": true
      },
      "outputs": [
        {
          "name": "stdout",
          "output_type": "stream",
          "text": [
            "Epoch 1/100\n",
            "3/3 - 1s - loss: 0.1472 - val_loss: 0.1319 - 946ms/epoch - 315ms/step\n",
            "Epoch 2/100\n",
            "3/3 - 0s - loss: 0.1054 - val_loss: 0.0808 - 61ms/epoch - 20ms/step\n",
            "Epoch 3/100\n",
            "3/3 - 0s - loss: 0.0632 - val_loss: 0.0421 - 51ms/epoch - 17ms/step\n",
            "Epoch 4/100\n",
            "3/3 - 0s - loss: 0.0321 - val_loss: 0.0179 - 53ms/epoch - 18ms/step\n",
            "Epoch 5/100\n",
            "3/3 - 0s - loss: 0.0130 - val_loss: 0.0068 - 159ms/epoch - 53ms/step\n",
            "Epoch 6/100\n",
            "3/3 - 0s - loss: 0.0051 - val_loss: 0.0051 - 74ms/epoch - 25ms/step\n",
            "Epoch 7/100\n",
            "3/3 - 0s - loss: 0.0048 - val_loss: 0.0073 - 61ms/epoch - 20ms/step\n",
            "Epoch 8/100\n",
            "3/3 - 0s - loss: 0.0063 - val_loss: 0.0081 - 78ms/epoch - 26ms/step\n",
            "Epoch 9/100\n",
            "3/3 - 0s - loss: 0.0063 - val_loss: 0.0067 - 63ms/epoch - 21ms/step\n",
            "Epoch 10/100\n",
            "3/3 - 0s - loss: 0.0049 - val_loss: 0.0045 - 65ms/epoch - 22ms/step\n",
            "Epoch 11/100\n",
            "3/3 - 0s - loss: 0.0035 - val_loss: 0.0030 - 63ms/epoch - 21ms/step\n",
            "Epoch 12/100\n",
            "3/3 - 0s - loss: 0.0028 - val_loss: 0.0025 - 55ms/epoch - 18ms/step\n",
            "Epoch 13/100\n",
            "3/3 - 0s - loss: 0.0028 - val_loss: 0.0023 - 67ms/epoch - 22ms/step\n",
            "Epoch 14/100\n",
            "3/3 - 0s - loss: 0.0029 - val_loss: 0.0021 - 104ms/epoch - 35ms/step\n",
            "Epoch 15/100\n",
            "3/3 - 0s - loss: 0.0026 - val_loss: 0.0017 - 129ms/epoch - 43ms/step\n",
            "Epoch 16/100\n",
            "3/3 - 0s - loss: 0.0022 - val_loss: 0.0016 - 108ms/epoch - 36ms/step\n",
            "Epoch 17/100\n",
            "3/3 - 0s - loss: 0.0019 - val_loss: 0.0016 - 79ms/epoch - 26ms/step\n",
            "Epoch 18/100\n",
            "3/3 - 0s - loss: 0.0018 - val_loss: 0.0016 - 168ms/epoch - 56ms/step\n",
            "Epoch 19/100\n",
            "3/3 - 0s - loss: 0.0018 - val_loss: 0.0015 - 45ms/epoch - 15ms/step\n",
            "Epoch 20/100\n",
            "3/3 - 0s - loss: 0.0016 - val_loss: 0.0012 - 67ms/epoch - 22ms/step\n",
            "Epoch 21/100\n",
            "3/3 - 0s - loss: 0.0015 - val_loss: 9.2351e-04 - 53ms/epoch - 18ms/step\n",
            "Epoch 22/100\n",
            "3/3 - 0s - loss: 0.0015 - val_loss: 8.0273e-04 - 44ms/epoch - 15ms/step\n",
            "Epoch 23/100\n",
            "3/3 - 0s - loss: 0.0015 - val_loss: 7.6919e-04 - 106ms/epoch - 35ms/step\n",
            "Epoch 24/100\n",
            "3/3 - 0s - loss: 0.0014 - val_loss: 7.5658e-04 - 79ms/epoch - 26ms/step\n",
            "Epoch 25/100\n",
            "3/3 - 0s - loss: 0.0014 - val_loss: 8.2654e-04 - 49ms/epoch - 16ms/step\n",
            "Epoch 26/100\n",
            "3/3 - 0s - loss: 0.0014 - val_loss: 8.8747e-04 - 49ms/epoch - 16ms/step\n",
            "Epoch 27/100\n",
            "3/3 - 0s - loss: 0.0014 - val_loss: 8.8471e-04 - 88ms/epoch - 29ms/step\n",
            "Epoch 28/100\n",
            "3/3 - 0s - loss: 0.0014 - val_loss: 9.2964e-04 - 83ms/epoch - 28ms/step\n",
            "Epoch 29/100\n",
            "3/3 - 0s - loss: 0.0014 - val_loss: 8.3350e-04 - 88ms/epoch - 29ms/step\n",
            "Epoch 30/100\n",
            "3/3 - 0s - loss: 0.0014 - val_loss: 7.1862e-04 - 71ms/epoch - 24ms/step\n",
            "Epoch 31/100\n",
            "3/3 - 0s - loss: 0.0014 - val_loss: 6.9605e-04 - 68ms/epoch - 23ms/step\n",
            "Epoch 32/100\n",
            "3/3 - 0s - loss: 0.0014 - val_loss: 7.2258e-04 - 81ms/epoch - 27ms/step\n",
            "Epoch 33/100\n",
            "3/3 - 0s - loss: 0.0013 - val_loss: 8.0722e-04 - 77ms/epoch - 26ms/step\n",
            "Epoch 34/100\n",
            "3/3 - 0s - loss: 0.0014 - val_loss: 9.0234e-04 - 124ms/epoch - 41ms/step\n",
            "Epoch 35/100\n",
            "3/3 - 0s - loss: 0.0013 - val_loss: 8.5292e-04 - 160ms/epoch - 53ms/step\n",
            "Epoch 36/100\n",
            "3/3 - 0s - loss: 0.0013 - val_loss: 7.8222e-04 - 78ms/epoch - 26ms/step\n",
            "Epoch 37/100\n",
            "3/3 - 0s - loss: 0.0013 - val_loss: 7.4588e-04 - 68ms/epoch - 23ms/step\n",
            "Epoch 38/100\n",
            "3/3 - 0s - loss: 0.0013 - val_loss: 7.5361e-04 - 72ms/epoch - 24ms/step\n",
            "Epoch 39/100\n",
            "3/3 - 0s - loss: 0.0013 - val_loss: 7.5726e-04 - 53ms/epoch - 18ms/step\n",
            "Epoch 40/100\n",
            "3/3 - 0s - loss: 0.0013 - val_loss: 7.8887e-04 - 49ms/epoch - 16ms/step\n",
            "Epoch 41/100\n",
            "3/3 - 0s - loss: 0.0013 - val_loss: 8.1441e-04 - 43ms/epoch - 14ms/step\n",
            "Epoch 42/100\n",
            "3/3 - 0s - loss: 0.0013 - val_loss: 7.9655e-04 - 87ms/epoch - 29ms/step\n",
            "Epoch 43/100\n",
            "3/3 - 0s - loss: 0.0013 - val_loss: 7.7634e-04 - 76ms/epoch - 25ms/step\n",
            "Epoch 44/100\n",
            "3/3 - 0s - loss: 0.0013 - val_loss: 7.7688e-04 - 65ms/epoch - 22ms/step\n",
            "Epoch 45/100\n",
            "3/3 - 0s - loss: 0.0013 - val_loss: 7.7618e-04 - 78ms/epoch - 26ms/step\n",
            "Epoch 46/100\n",
            "3/3 - 0s - loss: 0.0013 - val_loss: 8.0390e-04 - 91ms/epoch - 30ms/step\n",
            "Epoch 47/100\n",
            "3/3 - 0s - loss: 0.0013 - val_loss: 8.1369e-04 - 95ms/epoch - 32ms/step\n",
            "Epoch 48/100\n",
            "3/3 - 0s - loss: 0.0013 - val_loss: 7.5196e-04 - 45ms/epoch - 15ms/step\n",
            "Epoch 49/100\n",
            "3/3 - 0s - loss: 0.0013 - val_loss: 7.1515e-04 - 77ms/epoch - 26ms/step\n",
            "Epoch 50/100\n",
            "3/3 - 0s - loss: 0.0013 - val_loss: 7.6686e-04 - 66ms/epoch - 22ms/step\n",
            "Epoch 51/100\n",
            "3/3 - 0s - loss: 0.0013 - val_loss: 7.6021e-04 - 68ms/epoch - 23ms/step\n",
            "Epoch 52/100\n",
            "3/3 - 0s - loss: 0.0013 - val_loss: 8.2211e-04 - 57ms/epoch - 19ms/step\n",
            "Epoch 53/100\n",
            "3/3 - 0s - loss: 0.0013 - val_loss: 8.2878e-04 - 117ms/epoch - 39ms/step\n",
            "Epoch 54/100\n",
            "3/3 - 0s - loss: 0.0013 - val_loss: 7.9990e-04 - 76ms/epoch - 25ms/step\n",
            "Epoch 55/100\n",
            "3/3 - 0s - loss: 0.0013 - val_loss: 7.4948e-04 - 55ms/epoch - 18ms/step\n",
            "Epoch 56/100\n",
            "3/3 - 0s - loss: 0.0013 - val_loss: 7.3745e-04 - 63ms/epoch - 21ms/step\n",
            "Epoch 57/100\n",
            "3/3 - 0s - loss: 0.0013 - val_loss: 7.7991e-04 - 59ms/epoch - 20ms/step\n",
            "Epoch 58/100\n",
            "3/3 - 0s - loss: 0.0013 - val_loss: 7.7918e-04 - 166ms/epoch - 55ms/step\n",
            "Epoch 59/100\n",
            "3/3 - 0s - loss: 0.0013 - val_loss: 7.5321e-04 - 52ms/epoch - 17ms/step\n",
            "Epoch 60/100\n",
            "3/3 - 0s - loss: 0.0013 - val_loss: 7.4247e-04 - 65ms/epoch - 22ms/step\n",
            "Epoch 61/100\n",
            "3/3 - 0s - loss: 0.0013 - val_loss: 7.4455e-04 - 52ms/epoch - 17ms/step\n",
            "Epoch 62/100\n",
            "3/3 - 0s - loss: 0.0013 - val_loss: 7.1128e-04 - 82ms/epoch - 27ms/step\n",
            "Epoch 63/100\n",
            "3/3 - 0s - loss: 0.0013 - val_loss: 7.7909e-04 - 50ms/epoch - 17ms/step\n",
            "Epoch 64/100\n",
            "3/3 - 0s - loss: 0.0013 - val_loss: 7.7689e-04 - 91ms/epoch - 30ms/step\n",
            "Epoch 65/100\n",
            "3/3 - 0s - loss: 0.0013 - val_loss: 8.0842e-04 - 66ms/epoch - 22ms/step\n",
            "Epoch 66/100\n",
            "3/3 - 0s - loss: 0.0013 - val_loss: 7.7010e-04 - 72ms/epoch - 24ms/step\n",
            "Epoch 67/100\n",
            "3/3 - 0s - loss: 0.0013 - val_loss: 7.1346e-04 - 79ms/epoch - 26ms/step\n",
            "Epoch 68/100\n",
            "3/3 - 0s - loss: 0.0013 - val_loss: 7.1185e-04 - 72ms/epoch - 24ms/step\n",
            "Epoch 69/100\n",
            "3/3 - 0s - loss: 0.0013 - val_loss: 7.5177e-04 - 91ms/epoch - 30ms/step\n",
            "Epoch 70/100\n",
            "3/3 - 0s - loss: 0.0013 - val_loss: 8.3859e-04 - 100ms/epoch - 33ms/step\n",
            "Epoch 71/100\n",
            "3/3 - 0s - loss: 0.0013 - val_loss: 8.0507e-04 - 51ms/epoch - 17ms/step\n",
            "Epoch 72/100\n",
            "3/3 - 0s - loss: 0.0013 - val_loss: 7.6172e-04 - 63ms/epoch - 21ms/step\n",
            "Epoch 73/100\n",
            "3/3 - 0s - loss: 0.0013 - val_loss: 7.3583e-04 - 59ms/epoch - 20ms/step\n",
            "Epoch 74/100\n",
            "3/3 - 0s - loss: 0.0013 - val_loss: 7.1962e-04 - 60ms/epoch - 20ms/step\n",
            "Epoch 75/100\n",
            "3/3 - 0s - loss: 0.0013 - val_loss: 7.1231e-04 - 44ms/epoch - 15ms/step\n",
            "Epoch 76/100\n",
            "3/3 - 0s - loss: 0.0013 - val_loss: 7.0736e-04 - 78ms/epoch - 26ms/step\n",
            "Epoch 77/100\n",
            "3/3 - 0s - loss: 0.0013 - val_loss: 7.5157e-04 - 81ms/epoch - 27ms/step\n",
            "Epoch 78/100\n",
            "3/3 - 0s - loss: 0.0013 - val_loss: 7.9054e-04 - 75ms/epoch - 25ms/step\n",
            "Epoch 79/100\n",
            "3/3 - 0s - loss: 0.0013 - val_loss: 8.4223e-04 - 72ms/epoch - 24ms/step\n",
            "Epoch 80/100\n",
            "3/3 - 0s - loss: 0.0013 - val_loss: 7.9562e-04 - 92ms/epoch - 31ms/step\n",
            "Epoch 81/100\n",
            "3/3 - 0s - loss: 0.0013 - val_loss: 7.4281e-04 - 115ms/epoch - 38ms/step\n",
            "Epoch 82/100\n",
            "3/3 - 0s - loss: 0.0013 - val_loss: 6.8637e-04 - 35ms/epoch - 12ms/step\n",
            "Epoch 83/100\n",
            "3/3 - 0s - loss: 0.0013 - val_loss: 6.9550e-04 - 33ms/epoch - 11ms/step\n",
            "Epoch 84/100\n",
            "3/3 - 0s - loss: 0.0013 - val_loss: 7.0922e-04 - 36ms/epoch - 12ms/step\n",
            "Epoch 85/100\n",
            "3/3 - 0s - loss: 0.0013 - val_loss: 7.5879e-04 - 43ms/epoch - 14ms/step\n",
            "Epoch 86/100\n",
            "3/3 - 0s - loss: 0.0013 - val_loss: 7.3332e-04 - 35ms/epoch - 12ms/step\n",
            "Epoch 87/100\n",
            "3/3 - 0s - loss: 0.0013 - val_loss: 7.5259e-04 - 34ms/epoch - 11ms/step\n",
            "Epoch 88/100\n",
            "3/3 - 0s - loss: 0.0013 - val_loss: 7.6646e-04 - 35ms/epoch - 12ms/step\n",
            "Epoch 89/100\n",
            "3/3 - 0s - loss: 0.0013 - val_loss: 7.6341e-04 - 36ms/epoch - 12ms/step\n",
            "Epoch 90/100\n",
            "3/3 - 0s - loss: 0.0013 - val_loss: 6.9858e-04 - 38ms/epoch - 13ms/step\n",
            "Epoch 91/100\n",
            "3/3 - 0s - loss: 0.0013 - val_loss: 6.8810e-04 - 34ms/epoch - 11ms/step\n",
            "Epoch 92/100\n",
            "3/3 - 0s - loss: 0.0013 - val_loss: 7.2895e-04 - 36ms/epoch - 12ms/step\n",
            "Epoch 93/100\n",
            "3/3 - 0s - loss: 0.0013 - val_loss: 7.4280e-04 - 37ms/epoch - 12ms/step\n",
            "Epoch 94/100\n",
            "3/3 - 0s - loss: 0.0013 - val_loss: 7.5195e-04 - 37ms/epoch - 12ms/step\n",
            "Epoch 95/100\n",
            "3/3 - 0s - loss: 0.0013 - val_loss: 7.4610e-04 - 53ms/epoch - 18ms/step\n",
            "Epoch 96/100\n",
            "3/3 - 0s - loss: 0.0013 - val_loss: 7.2351e-04 - 37ms/epoch - 12ms/step\n",
            "Epoch 97/100\n",
            "3/3 - 0s - loss: 0.0013 - val_loss: 7.2263e-04 - 36ms/epoch - 12ms/step\n",
            "Epoch 98/100\n",
            "3/3 - 0s - loss: 0.0013 - val_loss: 7.3379e-04 - 38ms/epoch - 13ms/step\n"
          ]
        },
        {
          "name": "stdout",
          "output_type": "stream",
          "text": [
            "Epoch 99/100\n",
            "3/3 - 0s - loss: 0.0013 - val_loss: 7.0325e-04 - 76ms/epoch - 25ms/step\n",
            "Epoch 100/100\n",
            "3/3 - 0s - loss: 0.0013 - val_loss: 7.0777e-04 - 96ms/epoch - 32ms/step\n"
          ]
        }
      ],
      "source": [
        "cnn_history = model_cnn.fit(X_train_series, Y_train, validation_data=(X_valid_series, Y_valid), epochs=epochs, verbose=2)"
      ]
    },
    {
      "cell_type": "code",
      "execution_count": null,
      "id": "ba7ec890",
      "metadata": {
        "id": "ba7ec890"
      },
      "outputs": [],
      "source": [
        "X_test_series = X_test.reshape((X_test.shape[0], X_test.shape[1], 1))\n",
        "cnn_pred = model_cnn.predict(X_test_series)"
      ]
    },
    {
      "cell_type": "code",
      "execution_count": null,
      "id": "ead2f024",
      "metadata": {
        "id": "ead2f024",
        "outputId": "db46e5af-765d-46df-9052-94a0308cc28e"
      },
      "outputs": [
        {
          "data": {
            "image/png": "[encoded data removed]",
            "text/plain": [
              "<Figure size 1440x360 with 1 Axes>"
            ]
          },
          "metadata": {
            "needs_background": "light"
          },
          "output_type": "display_data"
        }
      ],
      "source": [
        "# plot\n",
        "plt.figure(figsize=(20,5))\n",
        "plt.plot(cnn_pred)\n",
        "plt.plot(Y_test.values, color='red')\n",
        "plt.show()"
      ]
    },
    {
      "cell_type": "markdown",
      "id": "e08d0e46",
      "metadata": {
        "id": "e08d0e46"
      },
      "source": [
        "## LSTM"
      ]
    },
    {
      "cell_type": "code",
      "execution_count": null,
      "id": "e6b827d0",
      "metadata": {
        "id": "e6b827d0",
        "outputId": "3bec6146-810d-40f7-9fee-4e5f3a4f1bcc"
      },
      "outputs": [
        {
          "name": "stdout",
          "output_type": "stream",
          "text": [
            "Model: \"sequential_3\"\n",
            "_________________________________________________________________\n",
            " Layer (type)                Output Shape              Param #   \n",
            "=================================================================\n",
            " lstm (LSTM)                 (None, 90)                33120     \n",
            "                                                                 \n",
            " dense_6 (Dense)             (None, 1)                 91        \n",
            "                                                                 \n",
            "=================================================================\n",
            "Total params: 33,211\n",
            "Trainable params: 33,211\n",
            "Non-trainable params: 0\n",
            "_________________________________________________________________\n"
          ]
        }
      ],
      "source": [
        "model_lstm = Sequential()\n",
        "model_lstm.add(LSTM(90, activation='relu', input_shape=(X_train_series.shape[1], X_train_series.shape[2])))\n",
        "model_lstm.add(Dense(1))\n",
        "model_lstm.compile(loss='mse', optimizer=adam)\n",
        "model_lstm.summary()"
      ]
    },
    {
      "cell_type": "code",
      "execution_count": null,
      "id": "90123c20",
      "metadata": {
        "id": "90123c20",
        "outputId": "b9b7de31-5ae2-43a7-b473-76c5aa4cd433"
      },
      "outputs": [
        {
          "name": "stdout",
          "output_type": "stream",
          "text": [
            "Epoch 1/100\n",
            "3/3 - 2s - loss: 0.1512 - val_loss: 0.1527 - 2s/epoch - 530ms/step\n",
            "Epoch 2/100\n",
            "3/3 - 0s - loss: 0.1329 - val_loss: 0.1296 - 51ms/epoch - 17ms/step\n",
            "Epoch 3/100\n",
            "3/3 - 0s - loss: 0.1112 - val_loss: 0.1068 - 49ms/epoch - 16ms/step\n",
            "Epoch 4/100\n",
            "3/3 - 0s - loss: 0.0916 - val_loss: 0.0864 - 54ms/epoch - 18ms/step\n",
            "Epoch 5/100\n",
            "3/3 - 0s - loss: 0.0728 - val_loss: 0.0671 - 52ms/epoch - 17ms/step\n",
            "Epoch 6/100\n",
            "3/3 - 0s - loss: 0.0536 - val_loss: 0.0487 - 90ms/epoch - 30ms/step\n",
            "Epoch 7/100\n",
            "3/3 - 0s - loss: 0.0369 - val_loss: 0.0324 - 76ms/epoch - 25ms/step\n",
            "Epoch 8/100\n",
            "3/3 - 0s - loss: 0.0232 - val_loss: 0.0204 - 101ms/epoch - 34ms/step\n",
            "Epoch 9/100\n",
            "3/3 - 0s - loss: 0.0147 - val_loss: 0.0148 - 74ms/epoch - 25ms/step\n",
            "Epoch 10/100\n",
            "3/3 - 0s - loss: 0.0112 - val_loss: 0.0149 - 70ms/epoch - 23ms/step\n",
            "Epoch 11/100\n",
            "3/3 - 0s - loss: 0.0120 - val_loss: 0.0154 - 75ms/epoch - 25ms/step\n",
            "Epoch 12/100\n",
            "3/3 - 0s - loss: 0.0114 - val_loss: 0.0123 - 99ms/epoch - 33ms/step\n",
            "Epoch 13/100\n",
            "3/3 - 0s - loss: 0.0086 - val_loss: 0.0083 - 93ms/epoch - 31ms/step\n",
            "Epoch 14/100\n",
            "3/3 - 0s - loss: 0.0064 - val_loss: 0.0064 - 63ms/epoch - 21ms/step\n",
            "Epoch 15/100\n",
            "3/3 - 0s - loss: 0.0057 - val_loss: 0.0054 - 70ms/epoch - 23ms/step\n",
            "Epoch 16/100\n",
            "3/3 - 0s - loss: 0.0053 - val_loss: 0.0041 - 52ms/epoch - 17ms/step\n",
            "Epoch 17/100\n",
            "3/3 - 0s - loss: 0.0041 - val_loss: 0.0030 - 55ms/epoch - 18ms/step\n",
            "Epoch 18/100\n",
            "3/3 - 0s - loss: 0.0030 - val_loss: 0.0028 - 60ms/epoch - 20ms/step\n",
            "Epoch 19/100\n",
            "3/3 - 0s - loss: 0.0025 - val_loss: 0.0027 - 74ms/epoch - 25ms/step\n",
            "Epoch 20/100\n",
            "3/3 - 0s - loss: 0.0023 - val_loss: 0.0022 - 80ms/epoch - 27ms/step\n",
            "Epoch 21/100\n",
            "3/3 - 0s - loss: 0.0019 - val_loss: 0.0014 - 69ms/epoch - 23ms/step\n",
            "Epoch 22/100\n",
            "3/3 - 0s - loss: 0.0016 - val_loss: 8.4299e-04 - 92ms/epoch - 31ms/step\n",
            "Epoch 23/100\n",
            "3/3 - 0s - loss: 0.0016 - val_loss: 6.6967e-04 - 53ms/epoch - 18ms/step\n",
            "Epoch 24/100\n",
            "3/3 - 0s - loss: 0.0016 - val_loss: 8.8289e-04 - 83ms/epoch - 28ms/step\n",
            "Epoch 25/100\n",
            "3/3 - 0s - loss: 0.0015 - val_loss: 0.0012 - 73ms/epoch - 24ms/step\n",
            "Epoch 26/100\n",
            "3/3 - 0s - loss: 0.0016 - val_loss: 0.0017 - 110ms/epoch - 37ms/step\n",
            "Epoch 27/100\n",
            "3/3 - 0s - loss: 0.0016 - val_loss: 0.0014 - 70ms/epoch - 23ms/step\n",
            "Epoch 28/100\n",
            "3/3 - 0s - loss: 0.0015 - val_loss: 0.0011 - 60ms/epoch - 20ms/step\n",
            "Epoch 29/100\n",
            "3/3 - 0s - loss: 0.0015 - val_loss: 9.2652e-04 - 76ms/epoch - 25ms/step\n",
            "Epoch 30/100\n",
            "3/3 - 0s - loss: 0.0015 - val_loss: 8.9863e-04 - 75ms/epoch - 25ms/step\n",
            "Epoch 31/100\n",
            "3/3 - 0s - loss: 0.0015 - val_loss: 9.6563e-04 - 97ms/epoch - 32ms/step\n",
            "Epoch 32/100\n",
            "3/3 - 0s - loss: 0.0014 - val_loss: 0.0011 - 74ms/epoch - 25ms/step\n",
            "Epoch 33/100\n",
            "3/3 - 0s - loss: 0.0014 - val_loss: 0.0010 - 63ms/epoch - 21ms/step\n",
            "Epoch 34/100\n",
            "3/3 - 0s - loss: 0.0014 - val_loss: 9.3319e-04 - 76ms/epoch - 25ms/step\n",
            "Epoch 35/100\n",
            "3/3 - 0s - loss: 0.0014 - val_loss: 8.6522e-04 - 72ms/epoch - 24ms/step\n",
            "Epoch 36/100\n",
            "3/3 - 0s - loss: 0.0014 - val_loss: 9.2210e-04 - 110ms/epoch - 37ms/step\n",
            "Epoch 37/100\n",
            "3/3 - 0s - loss: 0.0014 - val_loss: 8.7546e-04 - 52ms/epoch - 17ms/step\n",
            "Epoch 38/100\n",
            "3/3 - 0s - loss: 0.0014 - val_loss: 8.4451e-04 - 69ms/epoch - 23ms/step\n",
            "Epoch 39/100\n",
            "3/3 - 0s - loss: 0.0014 - val_loss: 8.6098e-04 - 57ms/epoch - 19ms/step\n",
            "Epoch 40/100\n",
            "3/3 - 0s - loss: 0.0014 - val_loss: 8.3070e-04 - 60ms/epoch - 20ms/step\n",
            "Epoch 41/100\n",
            "3/3 - 0s - loss: 0.0013 - val_loss: 8.5637e-04 - 54ms/epoch - 18ms/step\n",
            "Epoch 42/100\n",
            "3/3 - 0s - loss: 0.0013 - val_loss: 9.0069e-04 - 68ms/epoch - 23ms/step\n",
            "Epoch 43/100\n",
            "3/3 - 0s - loss: 0.0013 - val_loss: 8.4527e-04 - 80ms/epoch - 27ms/step\n",
            "Epoch 44/100\n",
            "3/3 - 0s - loss: 0.0013 - val_loss: 8.0631e-04 - 69ms/epoch - 23ms/step\n",
            "Epoch 45/100\n",
            "3/3 - 0s - loss: 0.0013 - val_loss: 8.0728e-04 - 74ms/epoch - 25ms/step\n",
            "Epoch 46/100\n",
            "3/3 - 0s - loss: 0.0013 - val_loss: 7.7050e-04 - 66ms/epoch - 22ms/step\n",
            "Epoch 47/100\n",
            "3/3 - 0s - loss: 0.0013 - val_loss: 8.1065e-04 - 82ms/epoch - 27ms/step\n",
            "Epoch 48/100\n",
            "3/3 - 0s - loss: 0.0013 - val_loss: 9.2132e-04 - 87ms/epoch - 29ms/step\n",
            "Epoch 49/100\n",
            "3/3 - 0s - loss: 0.0013 - val_loss: 8.5795e-04 - 69ms/epoch - 23ms/step\n",
            "Epoch 50/100\n",
            "3/3 - 0s - loss: 0.0013 - val_loss: 7.9500e-04 - 75ms/epoch - 25ms/step\n",
            "Epoch 51/100\n",
            "3/3 - 0s - loss: 0.0013 - val_loss: 6.9951e-04 - 56ms/epoch - 19ms/step\n",
            "Epoch 52/100\n",
            "3/3 - 0s - loss: 0.0013 - val_loss: 6.7157e-04 - 99ms/epoch - 33ms/step\n",
            "Epoch 53/100\n",
            "3/3 - 0s - loss: 0.0013 - val_loss: 7.5884e-04 - 58ms/epoch - 19ms/step\n",
            "Epoch 54/100\n",
            "3/3 - 0s - loss: 0.0013 - val_loss: 8.1926e-04 - 71ms/epoch - 24ms/step\n",
            "Epoch 55/100\n",
            "3/3 - 0s - loss: 0.0013 - val_loss: 8.0472e-04 - 58ms/epoch - 19ms/step\n",
            "Epoch 56/100\n",
            "3/3 - 0s - loss: 0.0013 - val_loss: 7.9532e-04 - 50ms/epoch - 17ms/step\n",
            "Epoch 57/100\n",
            "3/3 - 0s - loss: 0.0013 - val_loss: 7.8513e-04 - 49ms/epoch - 16ms/step\n",
            "Epoch 58/100\n",
            "3/3 - 0s - loss: 0.0013 - val_loss: 6.7795e-04 - 62ms/epoch - 21ms/step\n",
            "Epoch 59/100\n",
            "3/3 - 0s - loss: 0.0013 - val_loss: 6.6326e-04 - 70ms/epoch - 23ms/step\n",
            "Epoch 60/100\n",
            "3/3 - 0s - loss: 0.0013 - val_loss: 6.9893e-04 - 72ms/epoch - 24ms/step\n",
            "Epoch 61/100\n",
            "3/3 - 0s - loss: 0.0013 - val_loss: 7.2585e-04 - 60ms/epoch - 20ms/step\n",
            "Epoch 62/100\n",
            "3/3 - 0s - loss: 0.0013 - val_loss: 8.0533e-04 - 54ms/epoch - 18ms/step\n",
            "Epoch 63/100\n",
            "3/3 - 0s - loss: 0.0013 - val_loss: 7.3975e-04 - 64ms/epoch - 21ms/step\n",
            "Epoch 64/100\n",
            "3/3 - 0s - loss: 0.0013 - val_loss: 7.3090e-04 - 62ms/epoch - 21ms/step\n",
            "Epoch 65/100\n",
            "3/3 - 0s - loss: 0.0013 - val_loss: 6.6962e-04 - 77ms/epoch - 26ms/step\n",
            "Epoch 66/100\n",
            "3/3 - 0s - loss: 0.0013 - val_loss: 6.2115e-04 - 49ms/epoch - 16ms/step\n",
            "Epoch 67/100\n",
            "3/3 - 0s - loss: 0.0013 - val_loss: 6.7563e-04 - 63ms/epoch - 21ms/step\n",
            "Epoch 68/100\n",
            "3/3 - 0s - loss: 0.0013 - val_loss: 7.4165e-04 - 61ms/epoch - 20ms/step\n",
            "Epoch 69/100\n",
            "3/3 - 0s - loss: 0.0013 - val_loss: 7.6323e-04 - 63ms/epoch - 21ms/step\n",
            "Epoch 70/100\n",
            "3/3 - 0s - loss: 0.0013 - val_loss: 7.9655e-04 - 54ms/epoch - 18ms/step\n",
            "Epoch 71/100\n",
            "3/3 - 0s - loss: 0.0013 - val_loss: 6.9109e-04 - 82ms/epoch - 27ms/step\n",
            "Epoch 72/100\n",
            "3/3 - 0s - loss: 0.0013 - val_loss: 7.0186e-04 - 52ms/epoch - 17ms/step\n",
            "Epoch 73/100\n",
            "3/3 - 0s - loss: 0.0012 - val_loss: 6.5802e-04 - 68ms/epoch - 23ms/step\n",
            "Epoch 74/100\n",
            "3/3 - 0s - loss: 0.0012 - val_loss: 6.3805e-04 - 49ms/epoch - 16ms/step\n",
            "Epoch 75/100\n",
            "3/3 - 0s - loss: 0.0012 - val_loss: 6.3582e-04 - 62ms/epoch - 21ms/step\n",
            "Epoch 76/100\n",
            "3/3 - 0s - loss: 0.0012 - val_loss: 6.4250e-04 - 65ms/epoch - 22ms/step\n",
            "Epoch 77/100\n",
            "3/3 - 0s - loss: 0.0012 - val_loss: 7.1814e-04 - 61ms/epoch - 20ms/step\n",
            "Epoch 78/100\n",
            "3/3 - 0s - loss: 0.0012 - val_loss: 7.1814e-04 - 58ms/epoch - 19ms/step\n",
            "Epoch 79/100\n",
            "3/3 - 0s - loss: 0.0013 - val_loss: 7.5107e-04 - 67ms/epoch - 22ms/step\n",
            "Epoch 80/100\n",
            "3/3 - 0s - loss: 0.0012 - val_loss: 7.0292e-04 - 67ms/epoch - 22ms/step\n",
            "Epoch 81/100\n",
            "3/3 - 0s - loss: 0.0013 - val_loss: 6.1926e-04 - 77ms/epoch - 26ms/step\n",
            "Epoch 82/100\n",
            "3/3 - 0s - loss: 0.0012 - val_loss: 6.4069e-04 - 139ms/epoch - 46ms/step\n",
            "Epoch 83/100\n",
            "3/3 - 0s - loss: 0.0012 - val_loss: 6.9077e-04 - 111ms/epoch - 37ms/step\n",
            "Epoch 84/100\n",
            "3/3 - 0s - loss: 0.0012 - val_loss: 6.7076e-04 - 78ms/epoch - 26ms/step\n",
            "Epoch 85/100\n",
            "3/3 - 0s - loss: 0.0012 - val_loss: 6.5962e-04 - 56ms/epoch - 19ms/step\n",
            "Epoch 86/100\n",
            "3/3 - 0s - loss: 0.0012 - val_loss: 6.5968e-04 - 55ms/epoch - 18ms/step\n",
            "Epoch 87/100\n",
            "3/3 - 0s - loss: 0.0012 - val_loss: 6.6423e-04 - 62ms/epoch - 21ms/step\n",
            "Epoch 88/100\n",
            "3/3 - 0s - loss: 0.0013 - val_loss: 7.3367e-04 - 74ms/epoch - 25ms/step\n",
            "Epoch 89/100\n",
            "3/3 - 0s - loss: 0.0012 - val_loss: 7.1614e-04 - 124ms/epoch - 41ms/step\n",
            "Epoch 90/100\n",
            "3/3 - 0s - loss: 0.0012 - val_loss: 6.7011e-04 - 98ms/epoch - 33ms/step\n",
            "Epoch 91/100\n",
            "3/3 - 0s - loss: 0.0012 - val_loss: 6.5121e-04 - 85ms/epoch - 28ms/step\n",
            "Epoch 92/100\n",
            "3/3 - 0s - loss: 0.0012 - val_loss: 6.4100e-04 - 71ms/epoch - 24ms/step\n",
            "Epoch 93/100\n",
            "3/3 - 0s - loss: 0.0013 - val_loss: 5.9955e-04 - 73ms/epoch - 24ms/step\n",
            "Epoch 94/100\n",
            "3/3 - 0s - loss: 0.0013 - val_loss: 6.9231e-04 - 116ms/epoch - 39ms/step\n",
            "Epoch 95/100\n",
            "3/3 - 0s - loss: 0.0012 - val_loss: 6.8386e-04 - 110ms/epoch - 37ms/step\n",
            "Epoch 96/100\n",
            "3/3 - 0s - loss: 0.0012 - val_loss: 7.2231e-04 - 75ms/epoch - 25ms/step\n",
            "Epoch 97/100\n",
            "3/3 - 0s - loss: 0.0012 - val_loss: 7.2133e-04 - 101ms/epoch - 34ms/step\n",
            "Epoch 98/100\n",
            "3/3 - 0s - loss: 0.0012 - val_loss: 6.9078e-04 - 119ms/epoch - 40ms/step\n"
          ]
        },
        {
          "name": "stdout",
          "output_type": "stream",
          "text": [
            "Epoch 99/100\n",
            "3/3 - 0s - loss: 0.0012 - val_loss: 6.3704e-04 - 121ms/epoch - 40ms/step\n",
            "Epoch 100/100\n",
            "3/3 - 0s - loss: 0.0012 - val_loss: 5.7705e-04 - 127ms/epoch - 42ms/step\n"
          ]
        }
      ],
      "source": [
        "lstm_history = model_lstm.fit(X_train_series, Y_train, validation_data=(X_valid_series, Y_valid), epochs=epochs, verbose=2)"
      ]
    },
    {
      "cell_type": "code",
      "execution_count": null,
      "id": "ef666a26",
      "metadata": {
        "id": "ef666a26"
      },
      "outputs": [],
      "source": [
        "X_test_series = X_test.reshape((X_test.shape[0], X_test.shape[1], 1))\n",
        "lstm_pred = model_lstm.predict(X_test_series)"
      ]
    },
    {
      "cell_type": "code",
      "execution_count": null,
      "id": "1858acbc",
      "metadata": {
        "id": "1858acbc",
        "outputId": "f42ac511-27bc-4681-ec43-610e157b232e"
      },
      "outputs": [
        {
          "data": {
            "image/png": "[encoded data removed]",
            "text/plain": [
              "<Figure size 1440x360 with 1 Axes>"
            ]
          },
          "metadata": {
            "needs_background": "light"
          },
          "output_type": "display_data"
        }
      ],
      "source": [
        "# plot\n",
        "\n",
        "plt.figure(figsize=(20,5))\n",
        "plt.plot(lstm_pred)\n",
        "plt.plot(Y_test.values, color='red')\n",
        "plt.show()"
      ]
    },
    {
      "cell_type": "code",
      "execution_count": null,
      "id": "ad21b39d",
      "metadata": {
        "id": "ad21b39d",
        "outputId": "4a6e2e92-e674-4ffd-a578-326a8960efc1"
      },
      "outputs": [
        {
          "data": {
            "text/plain": [
              "5"
            ]
          },
          "execution_count": 48,
          "metadata": {},
          "output_type": "execute_result"
        }
      ],
      "source": [
        "X_train_series.shape[1]"
      ]
    },
    {
      "cell_type": "code",
      "execution_count": null,
      "id": "b5a43c99",
      "metadata": {
        "id": "b5a43c99",
        "outputId": "e71a6ea6-a75d-4483-8dcb-8160a13be392"
      },
      "outputs": [
        {
          "name": "stdout",
          "output_type": "stream",
          "text": [
            "Train set shape (96, 1, 5, 1)\n",
            "Validation set shape (11, 1, 5, 1)\n"
          ]
        }
      ],
      "source": [
        "import math\n",
        "subsequences = 2\n",
        "timesteps = math.ceil(X_train_series.shape[1]/subsequences)\n",
        "X_train_series_sub = X_train_series.reshape((X_train_series.shape[0], 1, 5, 1))\n",
        "X_valid_series_sub = X_valid_series.reshape((X_valid_series.shape[0], 1, 5, 1))\n",
        "print('Train set shape', X_train_series_sub.shape)\n",
        "print('Validation set shape', X_valid_series_sub.shape)\n"
      ]
    },
    {
      "cell_type": "code",
      "execution_count": null,
      "id": "6ce2f172",
      "metadata": {
        "id": "6ce2f172"
      },
      "outputs": [],
      "source": [
        "model_cnn_lstm = Sequential()\n",
        "model_cnn_lstm.add(TimeDistributed(Conv1D(filters=64, kernel_size=1, activation='relu'), input_shape=(None, X_train_series_sub.shape[2], X_train_series_sub.shape[3])))\n",
        "model_cnn_lstm.add(TimeDistributed(MaxPooling1D(pool_size=2)))\n",
        "model_cnn_lstm.add(TimeDistributed(Flatten()))\n",
        "model_cnn_lstm.add(LSTM(50, activation='relu'))\n",
        "model_cnn_lstm.add(Dense(1))\n",
        "model_cnn_lstm.compile(loss='mse', optimizer=adam)"
      ]
    },
    {
      "cell_type": "code",
      "execution_count": null,
      "id": "a9510eee",
      "metadata": {
        "id": "a9510eee",
        "outputId": "48358785-8d1f-412e-c7b8-96953296918d"
      },
      "outputs": [
        {
          "name": "stdout",
          "output_type": "stream",
          "text": [
            "Epoch 1/100\n",
            "3/3 - 2s - loss: 0.1663 - val_loss: 0.1716 - 2s/epoch - 613ms/step\n",
            "Epoch 2/100\n",
            "3/3 - 0s - loss: 0.1515 - val_loss: 0.1542 - 49ms/epoch - 16ms/step\n",
            "Epoch 3/100\n",
            "3/3 - 0s - loss: 0.1360 - val_loss: 0.1368 - 43ms/epoch - 14ms/step\n",
            "Epoch 4/100\n",
            "3/3 - 0s - loss: 0.1201 - val_loss: 0.1198 - 47ms/epoch - 16ms/step\n",
            "Epoch 5/100\n",
            "3/3 - 0s - loss: 0.1055 - val_loss: 0.1019 - 42ms/epoch - 14ms/step\n",
            "Epoch 6/100\n",
            "3/3 - 0s - loss: 0.0888 - val_loss: 0.0826 - 66ms/epoch - 22ms/step\n",
            "Epoch 7/100\n",
            "3/3 - 0s - loss: 0.0715 - val_loss: 0.0625 - 55ms/epoch - 18ms/step\n",
            "Epoch 8/100\n",
            "3/3 - 0s - loss: 0.0532 - val_loss: 0.0430 - 76ms/epoch - 25ms/step\n",
            "Epoch 9/100\n",
            "3/3 - 0s - loss: 0.0353 - val_loss: 0.0259 - 47ms/epoch - 16ms/step\n",
            "Epoch 10/100\n",
            "3/3 - 0s - loss: 0.0208 - val_loss: 0.0132 - 47ms/epoch - 16ms/step\n",
            "Epoch 11/100\n",
            "3/3 - 0s - loss: 0.0101 - val_loss: 0.0072 - 78ms/epoch - 26ms/step\n",
            "Epoch 12/100\n",
            "3/3 - 0s - loss: 0.0059 - val_loss: 0.0081 - 75ms/epoch - 25ms/step\n",
            "Epoch 13/100\n",
            "3/3 - 0s - loss: 0.0066 - val_loss: 0.0118 - 56ms/epoch - 19ms/step\n",
            "Epoch 14/100\n",
            "3/3 - 0s - loss: 0.0087 - val_loss: 0.0131 - 64ms/epoch - 21ms/step\n",
            "Epoch 15/100\n",
            "3/3 - 0s - loss: 0.0085 - val_loss: 0.0108 - 46ms/epoch - 15ms/step\n",
            "Epoch 16/100\n",
            "3/3 - 0s - loss: 0.0068 - val_loss: 0.0078 - 61ms/epoch - 20ms/step\n",
            "Epoch 17/100\n",
            "3/3 - 0s - loss: 0.0052 - val_loss: 0.0060 - 69ms/epoch - 23ms/step\n",
            "Epoch 18/100\n",
            "3/3 - 0s - loss: 0.0050 - val_loss: 0.0054 - 72ms/epoch - 24ms/step\n",
            "Epoch 19/100\n",
            "3/3 - 0s - loss: 0.0051 - val_loss: 0.0052 - 45ms/epoch - 15ms/step\n",
            "Epoch 20/100\n",
            "3/3 - 0s - loss: 0.0052 - val_loss: 0.0050 - 61ms/epoch - 20ms/step\n",
            "Epoch 21/100\n",
            "3/3 - 0s - loss: 0.0048 - val_loss: 0.0047 - 115ms/epoch - 38ms/step\n",
            "Epoch 22/100\n",
            "3/3 - 0s - loss: 0.0045 - val_loss: 0.0048 - 60ms/epoch - 20ms/step\n",
            "Epoch 23/100\n",
            "3/3 - 0s - loss: 0.0042 - val_loss: 0.0050 - 67ms/epoch - 22ms/step\n",
            "Epoch 24/100\n",
            "3/3 - 0s - loss: 0.0041 - val_loss: 0.0051 - 46ms/epoch - 15ms/step\n",
            "Epoch 25/100\n",
            "3/3 - 0s - loss: 0.0040 - val_loss: 0.0050 - 66ms/epoch - 22ms/step\n",
            "Epoch 26/100\n",
            "3/3 - 0s - loss: 0.0039 - val_loss: 0.0048 - 65ms/epoch - 22ms/step\n",
            "Epoch 27/100\n",
            "3/3 - 0s - loss: 0.0038 - val_loss: 0.0044 - 69ms/epoch - 23ms/step\n",
            "Epoch 28/100\n",
            "3/3 - 0s - loss: 0.0037 - val_loss: 0.0041 - 47ms/epoch - 16ms/step\n",
            "Epoch 29/100\n",
            "3/3 - 0s - loss: 0.0036 - val_loss: 0.0038 - 48ms/epoch - 16ms/step\n",
            "Epoch 30/100\n",
            "3/3 - 0s - loss: 0.0035 - val_loss: 0.0037 - 68ms/epoch - 23ms/step\n",
            "Epoch 31/100\n",
            "3/3 - 0s - loss: 0.0035 - val_loss: 0.0036 - 63ms/epoch - 21ms/step\n",
            "Epoch 32/100\n",
            "3/3 - 0s - loss: 0.0034 - val_loss: 0.0036 - 74ms/epoch - 25ms/step\n",
            "Epoch 33/100\n",
            "3/3 - 0s - loss: 0.0034 - val_loss: 0.0036 - 46ms/epoch - 15ms/step\n",
            "Epoch 34/100\n",
            "3/3 - 0s - loss: 0.0033 - val_loss: 0.0035 - 58ms/epoch - 19ms/step\n",
            "Epoch 35/100\n",
            "3/3 - 0s - loss: 0.0033 - val_loss: 0.0034 - 62ms/epoch - 21ms/step\n",
            "Epoch 36/100\n",
            "3/3 - 0s - loss: 0.0032 - val_loss: 0.0034 - 62ms/epoch - 21ms/step\n",
            "Epoch 37/100\n",
            "3/3 - 0s - loss: 0.0032 - val_loss: 0.0033 - 66ms/epoch - 22ms/step\n",
            "Epoch 38/100\n",
            "3/3 - 0s - loss: 0.0031 - val_loss: 0.0033 - 69ms/epoch - 23ms/step\n",
            "Epoch 39/100\n",
            "3/3 - 0s - loss: 0.0031 - val_loss: 0.0032 - 65ms/epoch - 22ms/step\n",
            "Epoch 40/100\n",
            "3/3 - 0s - loss: 0.0031 - val_loss: 0.0032 - 62ms/epoch - 21ms/step\n",
            "Epoch 41/100\n",
            "3/3 - 0s - loss: 0.0030 - val_loss: 0.0031 - 67ms/epoch - 22ms/step\n",
            "Epoch 42/100\n",
            "3/3 - 0s - loss: 0.0030 - val_loss: 0.0030 - 50ms/epoch - 17ms/step\n",
            "Epoch 43/100\n",
            "3/3 - 0s - loss: 0.0030 - val_loss: 0.0030 - 55ms/epoch - 18ms/step\n",
            "Epoch 44/100\n",
            "3/3 - 0s - loss: 0.0030 - val_loss: 0.0029 - 64ms/epoch - 21ms/step\n",
            "Epoch 45/100\n",
            "3/3 - 0s - loss: 0.0030 - val_loss: 0.0030 - 65ms/epoch - 22ms/step\n",
            "Epoch 46/100\n",
            "3/3 - 0s - loss: 0.0029 - val_loss: 0.0029 - 65ms/epoch - 22ms/step\n",
            "Epoch 47/100\n",
            "3/3 - 0s - loss: 0.0029 - val_loss: 0.0029 - 52ms/epoch - 17ms/step\n",
            "Epoch 48/100\n",
            "3/3 - 0s - loss: 0.0029 - val_loss: 0.0029 - 77ms/epoch - 26ms/step\n",
            "Epoch 49/100\n",
            "3/3 - 0s - loss: 0.0029 - val_loss: 0.0028 - 118ms/epoch - 39ms/step\n",
            "Epoch 50/100\n",
            "3/3 - 0s - loss: 0.0029 - val_loss: 0.0028 - 80ms/epoch - 27ms/step\n",
            "Epoch 51/100\n",
            "3/3 - 0s - loss: 0.0029 - val_loss: 0.0028 - 74ms/epoch - 25ms/step\n",
            "Epoch 52/100\n",
            "3/3 - 0s - loss: 0.0028 - val_loss: 0.0027 - 95ms/epoch - 32ms/step\n",
            "Epoch 53/100\n",
            "3/3 - 0s - loss: 0.0028 - val_loss: 0.0027 - 65ms/epoch - 22ms/step\n",
            "Epoch 54/100\n",
            "3/3 - 0s - loss: 0.0028 - val_loss: 0.0026 - 61ms/epoch - 20ms/step\n",
            "Epoch 55/100\n",
            "3/3 - 0s - loss: 0.0028 - val_loss: 0.0026 - 80ms/epoch - 27ms/step\n",
            "Epoch 56/100\n",
            "3/3 - 0s - loss: 0.0028 - val_loss: 0.0026 - 57ms/epoch - 19ms/step\n",
            "Epoch 57/100\n",
            "3/3 - 0s - loss: 0.0028 - val_loss: 0.0026 - 56ms/epoch - 19ms/step\n",
            "Epoch 58/100\n",
            "3/3 - 0s - loss: 0.0028 - val_loss: 0.0026 - 56ms/epoch - 19ms/step\n",
            "Epoch 59/100\n",
            "3/3 - 0s - loss: 0.0028 - val_loss: 0.0026 - 73ms/epoch - 24ms/step\n",
            "Epoch 60/100\n",
            "3/3 - 0s - loss: 0.0028 - val_loss: 0.0026 - 53ms/epoch - 18ms/step\n",
            "Epoch 61/100\n",
            "3/3 - 0s - loss: 0.0028 - val_loss: 0.0026 - 55ms/epoch - 18ms/step\n",
            "Epoch 62/100\n",
            "3/3 - 0s - loss: 0.0027 - val_loss: 0.0025 - 53ms/epoch - 18ms/step\n",
            "Epoch 63/100\n",
            "3/3 - 0s - loss: 0.0027 - val_loss: 0.0025 - 65ms/epoch - 22ms/step\n",
            "Epoch 64/100\n",
            "3/3 - 0s - loss: 0.0027 - val_loss: 0.0025 - 62ms/epoch - 21ms/step\n",
            "Epoch 65/100\n",
            "3/3 - 0s - loss: 0.0027 - val_loss: 0.0024 - 55ms/epoch - 18ms/step\n",
            "Epoch 66/100\n",
            "3/3 - 0s - loss: 0.0027 - val_loss: 0.0025 - 71ms/epoch - 24ms/step\n",
            "Epoch 67/100\n",
            "3/3 - 0s - loss: 0.0027 - val_loss: 0.0025 - 42ms/epoch - 14ms/step\n",
            "Epoch 68/100\n",
            "3/3 - 0s - loss: 0.0027 - val_loss: 0.0025 - 127ms/epoch - 42ms/step\n",
            "Epoch 69/100\n",
            "3/3 - 0s - loss: 0.0027 - val_loss: 0.0025 - 107ms/epoch - 36ms/step\n",
            "Epoch 70/100\n",
            "3/3 - 0s - loss: 0.0027 - val_loss: 0.0025 - 86ms/epoch - 29ms/step\n",
            "Epoch 71/100\n",
            "3/3 - 0s - loss: 0.0027 - val_loss: 0.0024 - 69ms/epoch - 23ms/step\n",
            "Epoch 72/100\n",
            "3/3 - 0s - loss: 0.0027 - val_loss: 0.0025 - 57ms/epoch - 19ms/step\n",
            "Epoch 73/100\n",
            "3/3 - 0s - loss: 0.0027 - val_loss: 0.0025 - 46ms/epoch - 15ms/step\n",
            "Epoch 74/100\n",
            "3/3 - 0s - loss: 0.0027 - val_loss: 0.0024 - 64ms/epoch - 21ms/step\n",
            "Epoch 75/100\n",
            "3/3 - 0s - loss: 0.0027 - val_loss: 0.0023 - 64ms/epoch - 21ms/step\n",
            "Epoch 76/100\n",
            "3/3 - 0s - loss: 0.0027 - val_loss: 0.0023 - 66ms/epoch - 22ms/step\n",
            "Epoch 77/100\n",
            "3/3 - 0s - loss: 0.0027 - val_loss: 0.0024 - 68ms/epoch - 23ms/step\n",
            "Epoch 78/100\n",
            "3/3 - 0s - loss: 0.0027 - val_loss: 0.0024 - 53ms/epoch - 18ms/step\n",
            "Epoch 79/100\n",
            "3/3 - 0s - loss: 0.0027 - val_loss: 0.0024 - 80ms/epoch - 27ms/step\n",
            "Epoch 80/100\n",
            "3/3 - 0s - loss: 0.0027 - val_loss: 0.0024 - 40ms/epoch - 13ms/step\n",
            "Epoch 81/100\n",
            "3/3 - 0s - loss: 0.0026 - val_loss: 0.0024 - 71ms/epoch - 24ms/step\n",
            "Epoch 82/100\n",
            "3/3 - 0s - loss: 0.0026 - val_loss: 0.0024 - 57ms/epoch - 19ms/step\n",
            "Epoch 83/100\n",
            "3/3 - 0s - loss: 0.0026 - val_loss: 0.0023 - 65ms/epoch - 22ms/step\n",
            "Epoch 84/100\n",
            "3/3 - 0s - loss: 0.0026 - val_loss: 0.0023 - 62ms/epoch - 21ms/step\n",
            "Epoch 85/100\n",
            "3/3 - 0s - loss: 0.0026 - val_loss: 0.0022 - 44ms/epoch - 15ms/step\n",
            "Epoch 86/100\n",
            "3/3 - 0s - loss: 0.0026 - val_loss: 0.0023 - 57ms/epoch - 19ms/step\n",
            "Epoch 87/100\n",
            "3/3 - 0s - loss: 0.0026 - val_loss: 0.0023 - 87ms/epoch - 29ms/step\n",
            "Epoch 88/100\n",
            "3/3 - 0s - loss: 0.0026 - val_loss: 0.0022 - 121ms/epoch - 40ms/step\n",
            "Epoch 89/100\n",
            "3/3 - 0s - loss: 0.0026 - val_loss: 0.0021 - 56ms/epoch - 19ms/step\n",
            "Epoch 90/100\n",
            "3/3 - 0s - loss: 0.0026 - val_loss: 0.0021 - 61ms/epoch - 20ms/step\n",
            "Epoch 91/100\n",
            "3/3 - 0s - loss: 0.0026 - val_loss: 0.0021 - 59ms/epoch - 20ms/step\n",
            "Epoch 92/100\n",
            "3/3 - 0s - loss: 0.0025 - val_loss: 0.0022 - 89ms/epoch - 30ms/step\n",
            "Epoch 93/100\n",
            "3/3 - 0s - loss: 0.0025 - val_loss: 0.0023 - 100ms/epoch - 33ms/step\n",
            "Epoch 94/100\n",
            "3/3 - 0s - loss: 0.0025 - val_loss: 0.0022 - 99ms/epoch - 33ms/step\n",
            "Epoch 95/100\n",
            "3/3 - 0s - loss: 0.0025 - val_loss: 0.0021 - 84ms/epoch - 28ms/step\n",
            "Epoch 96/100\n",
            "3/3 - 0s - loss: 0.0025 - val_loss: 0.0021 - 75ms/epoch - 25ms/step\n",
            "Epoch 97/100\n",
            "3/3 - 0s - loss: 0.0025 - val_loss: 0.0021 - 84ms/epoch - 28ms/step\n",
            "Epoch 98/100\n",
            "3/3 - 0s - loss: 0.0025 - val_loss: 0.0020 - 83ms/epoch - 28ms/step\n",
            "Epoch 99/100\n",
            "3/3 - 0s - loss: 0.0025 - val_loss: 0.0020 - 68ms/epoch - 23ms/step\n",
            "Epoch 100/100\n",
            "3/3 - 0s - loss: 0.0025 - val_loss: 0.0019 - 112ms/epoch - 37ms/step\n"
          ]
        }
      ],
      "source": [
        "cnn_lstm_history = model_cnn_lstm.fit(X_train_series_sub, Y_train, validation_data=(X_valid_series_sub, Y_valid), epochs=epochs, verbose=2)"
      ]
    },
    {
      "cell_type": "code",
      "execution_count": null,
      "id": "01192ab9",
      "metadata": {
        "id": "01192ab9",
        "outputId": "ecad47f3-6f42-4fc4-c241-641591f3c27d"
      },
      "outputs": [
        {
          "name": "stdout",
          "output_type": "stream",
          "text": [
            "WARNING:tensorflow:5 out of the last 5 calls to <function Model.make_predict_function.<locals>.predict_function at 0x7fced67879e0> triggered tf.function retracing. Tracing is expensive and the excessive number of tracings could be due to (1) creating @tf.function repeatedly in a loop, (2) passing tensors with different shapes, (3) passing Python objects instead of tensors. For (1), please define your @tf.function outside of the loop. For (2), @tf.function has experimental_relax_shapes=True option that relaxes argument shapes that can avoid unnecessary retracing. For (3), please refer to https://www.tensorflow.org/guide/function#controlling_retracing and https://www.tensorflow.org/api_docs/python/tf/function for  more details.\n"
          ]
        }
      ],
      "source": [
        "X_test_series_sub = X_test_series.reshape((X_test_series.shape[0], 1, 5, 1))\n",
        "cnn_lstm_pred = model_cnn_lstm.predict(X_test_series_sub)"
      ]
    },
    {
      "cell_type": "code",
      "execution_count": null,
      "id": "b5ef71d2",
      "metadata": {
        "id": "b5ef71d2",
        "outputId": "a3d2cf67-e241-45cf-8803-885726997552"
      },
      "outputs": [
        {
          "data": {
            "image/png": "[encoded data removed]",
            "text/plain": [
              "<Figure size 1440x360 with 1 Axes>"
            ]
          },
          "metadata": {
            "needs_background": "light"
          },
          "output_type": "display_data"
        }
      ],
      "source": [
        "# plot\n",
        "\n",
        "plt.figure(figsize=(20,5))\n",
        "plt.plot(cnn_lstm_pred)\n",
        "plt.plot(Y_test.values, color='red')\n",
        "plt.show()"
      ]
    },
    {
      "cell_type": "code",
      "execution_count": null,
      "id": "3c14d6d8",
      "metadata": {
        "id": "3c14d6d8"
      },
      "outputs": [],
      "source": []
    }
  ],
  "metadata": {
    "colab": {
      "name": "DeepLearning.ipynb",
      "provenance": []
    },
    "kernelspec": {
      "display_name": "Python 3 (ipykernel)",
      "language": "python",
      "name": "python3"
    },
    "language_info": {
      "codemirror_mode": {
        "name": "ipython",
        "version": 3
      },
      "file_extension": ".py",
      "mimetype": "text/x-python",
      "name": "python",
      "nbconvert_exporter": "python",
      "pygments_lexer": "ipython3",
      "version": "3.7.6"
    }
  },
  "nbformat": 4,
  "nbformat_minor": 5
}
